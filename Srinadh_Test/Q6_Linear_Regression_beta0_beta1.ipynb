{
  "nbformat": 4,
  "nbformat_minor": 0,
  "metadata": {
    "colab": {
      "name": "Normal Distribution.ipynb",
      "provenance": [],
      "toc_visible": true
    },
    "kernelspec": {
      "name": "python3",
      "display_name": "Python 3"
    }
  },
  "cells": [
    {
      "cell_type": "code",
      "metadata": {
        "id": "-4HushGInx-V",
        "colab_type": "code",
        "colab": {
          "base_uri": "https://localhost:8080/",
          "height": 119
        },
        "outputId": "9255fd4d-ac8c-4ffa-e416-b0a6373b1c2d"
      },
      "source": [
        "import numpy as np\n",
        "import matplotlib.pyplot as plt\n",
        "\n",
        "def betas(x, y):\n",
        "    # number of observations/points\n",
        "    n = np.size(x)\n",
        "\n",
        "    # mean of x and y vector\n",
        "    m_x, m_y = np.mean(x), np.mean(y)\n",
        "\n",
        "    # calculating cross-deviation and deviation about x\n",
        "    SS_xy = np.sum(y * x) - n * m_y * m_x\n",
        "    SS_xx = np.sum(x * x) - n * m_x * m_x\n",
        "\n",
        "    # calculating regression coefficients\n",
        "    b_1 = SS_xy / SS_xx\n",
        "    b_0 = m_y - b_1 * m_x\n",
        "    return (b_0, b_1)\n",
        "\n",
        "\n",
        "\n",
        "def main():\n",
        "    # observations\n",
        "    x = np.array([1, 1, 2, 5, 5, 6])\n",
        "    y = np.array([2, 4, 3, 3, 5, 4])\n",
        "    # estimating coefficients\n",
        "    b = betas(x, y)\n",
        "    print(\"Estimated coefficients:\\nbeta_0 = {}  \\\n",
        "          \\nbeta_1 = {}\".format(b[0], b[1]))\n",
        "\n",
        "    data = np.random.multivariate_normal([0,0],[[1,-0.9],[-0.9,1]],100)\n",
        "    b= betas(data[:,0],data[:,1])\n",
        "    print(\"Estimated coefficients:\\nbeta_0 = {}  \\\n",
        "            \\nbeta_1 = {}\".format(b[0], b[1]))\n",
        "\n",
        "if __name__ == \"__main__\":\n",
        "    main()"
      ],
      "execution_count": 15,
      "outputs": [
        {
          "output_type": "stream",
          "text": [
            "Estimated coefficients:\n",
            "beta_0 = 2.7105263157894735            \n",
            "beta_1 = 0.23684210526315794\n",
            "Estimated coefficients:\n",
            "beta_0 = 0.02276602579333556              \n",
            "beta_1 = -0.8250486966278681\n"
          ],
          "name": "stdout"
        }
      ]
    },
    {
      "cell_type": "code",
      "metadata": {
        "id": "J_F5MpcKwl8U",
        "colab_type": "code",
        "colab": {}
      },
      "source": [
        ""
      ],
      "execution_count": null,
      "outputs": []
    },
    {
      "cell_type": "code",
      "metadata": {
        "id": "RqiMC00ewbBX",
        "colab_type": "code",
        "colab": {}
      },
      "source": [
        ""
      ],
      "execution_count": null,
      "outputs": []
    },
    {
      "cell_type": "code",
      "metadata": {
        "id": "EZtj7TasqSFz",
        "colab_type": "code",
        "colab": {}
      },
      "source": [
        ""
      ],
      "execution_count": 12,
      "outputs": []
    }
  ]
}