{
  "nbformat": 4,
  "nbformat_minor": 0,
  "metadata": {
    "colab": {
      "name": "Community_Modify.ipynb",
      "provenance": [],
      "collapsed_sections": [],
      "toc_visible": true,
      "authorship_tag": "ABX9TyM53pppbBp/N95sBtF5tgZJ",
      "include_colab_link": true
    },
    "kernelspec": {
      "name": "python3",
      "display_name": "Python 3"
    },
    "accelerator": "GPU"
  },
  "cells": [
    {
      "cell_type": "markdown",
      "metadata": {
        "id": "view-in-github",
        "colab_type": "text"
      },
      "source": [
        "<a href=\"https://colab.research.google.com/github/sivabuddi/Test/blob/master/Community_Modify.ipynb\" target=\"_parent\"><img src=\"https://colab.research.google.com/assets/colab-badge.svg\" alt=\"Open In Colab\"/></a>"
      ]
    },
    {
      "cell_type": "markdown",
      "metadata": {
        "id": "U3c7FrH-VTjy",
        "colab_type": "text"
      },
      "source": [
        ""
      ]
    },
    {
      "cell_type": "code",
      "metadata": {
        "id": "CxtOdbX7Vmhp",
        "colab_type": "code",
        "colab": {
          "base_uri": "https://localhost:8080/",
          "height": 34
        },
        "outputId": "e40e562e-ad4d-4555-9ba5-e3a1dfee7776"
      },
      "source": [
        "ls"
      ],
      "execution_count": 4,
      "outputs": [
        {
          "output_type": "stream",
          "text": [
            "\u001b[0m\u001b[01;34msample_data\u001b[0m/\n"
          ],
          "name": "stdout"
        }
      ]
    },
    {
      "cell_type": "code",
      "metadata": {
        "id": "0Id7cjxNV0fu",
        "colab_type": "code",
        "colab": {
          "base_uri": "https://localhost:8080/",
          "height": 69
        },
        "outputId": "5992ed73-8845-48a7-8fad-0cd7e37ccae0"
      },
      "source": [
        "ls"
      ],
      "execution_count": 8,
      "outputs": [
        {
          "output_type": "stream",
          "text": [
            "\u001b[0m\u001b[01;32manscombe.json\u001b[0m*                mnist_test.csv\n",
            "california_housing_test.csv   mnist_train_small.csv\n",
            "california_housing_train.csv  \u001b[01;32mREADME.md\u001b[0m*\n"
          ],
          "name": "stdout"
        }
      ]
    },
    {
      "cell_type": "code",
      "metadata": {
        "id": "2epQPUcLWc-R",
        "colab_type": "code",
        "colab": {
          "base_uri": "https://localhost:8080/",
          "height": 34
        },
        "outputId": "0cdf378f-6364-484f-9d22-2ba6faeab517"
      },
      "source": [
        "cd .."
      ],
      "execution_count": 9,
      "outputs": [
        {
          "output_type": "stream",
          "text": [
            "/content\n"
          ],
          "name": "stdout"
        }
      ]
    },
    {
      "cell_type": "code",
      "metadata": {
        "id": "w5JNWC0rWeS1",
        "colab_type": "code",
        "colab": {
          "base_uri": "https://localhost:8080/",
          "height": 34
        },
        "outputId": "a6ad173f-5d19-4daa-fd1c-52dbb0ceffcc"
      },
      "source": [
        "cd .."
      ],
      "execution_count": 11,
      "outputs": [
        {
          "output_type": "stream",
          "text": [
            "/\n"
          ],
          "name": "stdout"
        }
      ]
    },
    {
      "cell_type": "code",
      "metadata": {
        "id": "xrojY_Q_Wzt8",
        "colab_type": "code",
        "colab": {
          "base_uri": "https://localhost:8080/",
          "height": 34
        },
        "outputId": "d1be763b-60b4-43fd-d163-5b9325ecf059"
      },
      "source": [
        "clear"
      ],
      "execution_count": 13,
      "outputs": [
        {
          "output_type": "stream",
          "text": [
            "\u001b[H\u001b[2J"
          ],
          "name": "stdout"
        }
      ]
    },
    {
      "cell_type": "code",
      "metadata": {
        "id": "hxUM1EDeW24o",
        "colab_type": "code",
        "colab": {
          "base_uri": "https://localhost:8080/",
          "height": 34
        },
        "outputId": "0b0715da-0af8-41b6-ac86-ffbbb843d783"
      },
      "source": [
        "pwd"
      ],
      "execution_count": 15,
      "outputs": [
        {
          "output_type": "execute_result",
          "data": {
            "text/plain": [
              "'/'"
            ]
          },
          "metadata": {
            "tags": []
          },
          "execution_count": 15
        }
      ]
    },
    {
      "cell_type": "code",
      "metadata": {
        "id": "nH3KCaYfXHuo",
        "colab_type": "code",
        "colab": {
          "base_uri": "https://localhost:8080/",
          "height": 34
        },
        "outputId": "62ffdf56-3eb7-4d8d-d2e0-32f776a95aa8"
      },
      "source": [
        "cd var/"
      ],
      "execution_count": 16,
      "outputs": [
        {
          "output_type": "stream",
          "text": [
            "/var\n"
          ],
          "name": "stdout"
        }
      ]
    },
    {
      "cell_type": "code",
      "metadata": {
        "id": "Rn8xcHvnXJ8d",
        "colab_type": "code",
        "colab": {
          "base_uri": "https://localhost:8080/",
          "height": 34
        },
        "outputId": "136c3a92-58f3-4d9c-82e8-429c633a22f4"
      },
      "source": [
        "cd .."
      ],
      "execution_count": 20,
      "outputs": [
        {
          "output_type": "stream",
          "text": [
            "/\n"
          ],
          "name": "stdout"
        }
      ]
    },
    {
      "cell_type": "code",
      "metadata": {
        "id": "eFY1RbmTXXEp",
        "colab_type": "code",
        "colab": {
          "base_uri": "https://localhost:8080/",
          "height": 34
        },
        "outputId": "06b25b32-b6ae-40a6-cfb8-5d6bffbb231d"
      },
      "source": [
        "cd home/"
      ],
      "execution_count": 22,
      "outputs": [
        {
          "output_type": "stream",
          "text": [
            "/home\n"
          ],
          "name": "stdout"
        }
      ]
    },
    {
      "cell_type": "code",
      "metadata": {
        "id": "uPDYYedDXhv6",
        "colab_type": "code",
        "colab": {
          "base_uri": "https://localhost:8080/",
          "height": 276
        },
        "outputId": "96aac929-37e6-4e62-e4ad-77c309711b02"
      },
      "source": [
        "ls"
      ],
      "execution_count": 32,
      "outputs": [
        {
          "output_type": "stream",
          "text": [
            "\u001b[0m\u001b[01;34mbin\u001b[0m/                                       \u001b[01;34mopt\u001b[0m/\n",
            "\u001b[01;34mboot\u001b[0m/                                      \u001b[01;34mproc\u001b[0m/\n",
            "\u001b[01;34mcontent\u001b[0m/                                   Python_lab1.docx\n",
            "\u001b[01;34mdatalab\u001b[0m/                                   \u001b[01;34mroot\u001b[0m/\n",
            "\u001b[01;34mdev\u001b[0m/                                       \u001b[01;34mrun\u001b[0m/\n",
            "dlib-19.18.0-cp27-cp27mu-linux_x86_64.whl  \u001b[01;34msbin\u001b[0m/\n",
            "dlib-19.18.0-cp36-cp36m-linux_x86_64.whl   \u001b[01;34msrv\u001b[0m/\n",
            "\u001b[01;34metc\u001b[0m/                                       \u001b[01;34mswift\u001b[0m/\n",
            "\u001b[01;34mhome\u001b[0m/                                      \u001b[01;34msys\u001b[0m/\n",
            "\u001b[01;34mlib\u001b[0m/                                       \u001b[01;34mtensorflow-2.1.0\u001b[0m/\n",
            "\u001b[01;34mlib32\u001b[0m/                                     \u001b[30;42mtmp\u001b[0m/\n",
            "\u001b[01;34mlib64\u001b[0m/                                     \u001b[01;34mtools\u001b[0m/\n",
            "\u001b[01;34mmedia\u001b[0m/                                     \u001b[01;34musr\u001b[0m/\n",
            "\u001b[01;34mmnt\u001b[0m/                                       \u001b[01;34mvar\u001b[0m/\n",
            "Model_Loss_epoch.PNG\n"
          ],
          "name": "stdout"
        }
      ]
    },
    {
      "cell_type": "code",
      "metadata": {
        "id": "Z_GHFhPuX_WS",
        "colab_type": "code",
        "colab": {
          "base_uri": "https://localhost:8080/",
          "height": 34
        },
        "outputId": "60d289d9-acb1-4f4d-c4a6-63d94f3ca580"
      },
      "source": [
        "cd content/"
      ],
      "execution_count": 33,
      "outputs": [
        {
          "output_type": "stream",
          "text": [
            "/content\n"
          ],
          "name": "stdout"
        }
      ]
    },
    {
      "cell_type": "code",
      "metadata": {
        "id": "zSOSLTS2YBT6",
        "colab_type": "code",
        "colab": {
          "base_uri": "https://localhost:8080/",
          "height": 34
        },
        "outputId": "f85dfff9-1480-4cce-c954-f7c9cd08c854"
      },
      "source": [
        "cd sample_data/"
      ],
      "execution_count": 35,
      "outputs": [
        {
          "output_type": "stream",
          "text": [
            "/content/sample_data\n"
          ],
          "name": "stdout"
        }
      ]
    },
    {
      "cell_type": "code",
      "metadata": {
        "id": "gndeT4zTYFxX",
        "colab_type": "code",
        "colab": {
          "base_uri": "https://localhost:8080/",
          "height": 69
        },
        "outputId": "9852cf62-614c-4152-90ff-9716e63d92b4"
      },
      "source": [
        "ls"
      ],
      "execution_count": 37,
      "outputs": [
        {
          "output_type": "stream",
          "text": [
            "\u001b[0m\u001b[01;32manscombe.json\u001b[0m*                mnist_test.csv\n",
            "california_housing_test.csv   mnist_train_small.csv\n",
            "california_housing_train.csv  \u001b[01;32mREADME.md\u001b[0m*\n"
          ],
          "name": "stdout"
        }
      ]
    },
    {
      "cell_type": "code",
      "metadata": {
        "id": "cZwNW5-mYKsA",
        "colab_type": "code",
        "colab": {
          "base_uri": "https://localhost:8080/",
          "height": 276
        },
        "outputId": "18abc5ab-05e7-410b-db7f-1cccb75dd343"
      },
      "source": [
        "ls"
      ],
      "execution_count": 44,
      "outputs": [
        {
          "output_type": "stream",
          "text": [
            "\u001b[0m\u001b[01;34mbin\u001b[0m/                                       Model_Loss_epoch.PNG\n",
            "\u001b[01;34mboot\u001b[0m/                                      \u001b[01;34mopt\u001b[0m/\n",
            "Communities.zip                            \u001b[01;34mproc\u001b[0m/\n",
            "\u001b[01;34mcontent\u001b[0m/                                   Python_lab1.docx\n",
            "\u001b[01;34mdatalab\u001b[0m/                                   \u001b[01;34mroot\u001b[0m/\n",
            "\u001b[01;34mdev\u001b[0m/                                       \u001b[01;34mrun\u001b[0m/\n",
            "dlib-19.18.0-cp27-cp27mu-linux_x86_64.whl  \u001b[01;34msbin\u001b[0m/\n",
            "dlib-19.18.0-cp36-cp36m-linux_x86_64.whl   \u001b[01;34msrv\u001b[0m/\n",
            "\u001b[01;34metc\u001b[0m/                                       \u001b[01;34mswift\u001b[0m/\n",
            "\u001b[01;34mhome\u001b[0m/                                      \u001b[01;34msys\u001b[0m/\n",
            "\u001b[01;34mlib\u001b[0m/                                       \u001b[01;34mtensorflow-2.1.0\u001b[0m/\n",
            "\u001b[01;34mlib32\u001b[0m/                                     \u001b[30;42mtmp\u001b[0m/\n",
            "\u001b[01;34mlib64\u001b[0m/                                     \u001b[01;34mtools\u001b[0m/\n",
            "\u001b[01;34mmedia\u001b[0m/                                     \u001b[01;34musr\u001b[0m/\n",
            "\u001b[01;34mmnt\u001b[0m/                                       \u001b[01;34mvar\u001b[0m/\n"
          ],
          "name": "stdout"
        }
      ]
    },
    {
      "cell_type": "code",
      "metadata": {
        "id": "aFS3QcpMdV4D",
        "colab_type": "code",
        "colab": {
          "base_uri": "https://localhost:8080/",
          "height": 1000
        },
        "outputId": "0e92e6c0-77b3-4dce-9f98-c43d329c585c"
      },
      "source": [
        "!unzip Communities.zip -d House"
      ],
      "execution_count": 45,
      "outputs": [
        {
          "output_type": "stream",
          "text": [
            "Archive:  Communities.zip\n",
            "   creating: House/Communities/\n",
            "  inflating: House/Communities/train_faster_rcnn (1).py  \n",
            "  inflating: House/Communities/supervisely_voc.py  \n",
            "  inflating: House/Communities/Scrap_Modify.py  \n",
            "  inflating: House/Communities/scraping.py  \n",
            "  inflating: House/Communities/RenameScript.py  \n",
            "   creating: House/Communities/Dataset/\n",
            "   creating: House/Communities/.idea/\n",
            "  inflating: House/Communities/.idea/modules.xml  \n",
            "  inflating: House/Communities/.idea/encodings.xml  \n",
            "  inflating: House/Communities/.idea/misc.xml  \n",
            "  inflating: House/Communities/.idea/Communities.iml  \n",
            "  inflating: House/Communities/.idea/workspace.xml  \n",
            "   creating: House/Communities/Dataset/VOC2007/\n",
            "   creating: House/Communities/Dataset/VOC2007/ImageSets/\n",
            "   creating: House/Communities/Dataset/VOC2007/Annotations/\n",
            "  inflating: House/Communities/Dataset/VOC2007/Annotations/104429403-GettyImages-87182699.xml  \n",
            "  inflating: House/Communities/Dataset/VOC2007/Annotations/103240683.0.xml  \n",
            "  inflating: House/Communities/Dataset/VOC2007/Annotations/102621128.xml  \n",
            "  inflating: House/Communities/Dataset/VOC2007/Annotations/102620087.xml  \n",
            "  inflating: House/Communities/Dataset/VOC2007/Annotations/85169918.xml  \n",
            "  inflating: House/Communities/Dataset/VOC2007/Annotations/76388846-many-us-flags-on-the-houses-in-new-york.xml  \n",
            "  inflating: House/Communities/Dataset/VOC2007/Annotations/70496472_2180417708736675_6232744600222564352_o.xml  \n",
            "  inflating: House/Communities/Dataset/VOC2007/Annotations/69433817_921789878193082_6787044489509732352_n.xml  \n",
            "  inflating: House/Communities/Dataset/VOC2007/Annotations/56845984-flags-on-porches-of-village-houses.xml  \n",
            "  inflating: House/Communities/Dataset/VOC2007/Annotations/47159688fdcd509d57b0eaa07ae6e647.xml  \n",
            "  inflating: House/Communities/Dataset/VOC2007/Annotations/24210954-c810cbfb92e830376115058443545e5e.xml  \n",
            "  inflating: House/Communities/Dataset/VOC2007/Annotations/20180826_081557.xml  \n",
            "  inflating: House/Communities/Dataset/VOC2007/Annotations/20180730-150336_alameda-parks.xml  \n",
            "  inflating: House/Communities/Dataset/VOC2007/Annotations/20160830_133743.xml  \n",
            "  inflating: House/Communities/Dataset/VOC2007/Annotations/20160615-gay-pride-flags-Orlando.xml  \n",
            "  inflating: House/Communities/Dataset/VOC2007/Annotations/13165833_1175715322439236_6718008880248934636_n.xml  \n",
            "  inflating: House/Communities/Dataset/VOC2007/Annotations/12898221_1020081591393130_5820412540309339342_o.xml  \n",
            "  inflating: House/Communities/Dataset/VOC2007/Annotations/11210397_10152928715037857_5133027995697518468_n.xml  \n",
            "  inflating: House/Communities/Dataset/VOC2007/Annotations/7548171ea9c475ccd1d647b7d357a3df.xml  \n",
            "  inflating: House/Communities/Dataset/VOC2007/Annotations/5771336f2200002e00f831f9.jpeg.json.xml  \n",
            "  inflating: House/Communities/Dataset/VOC2007/Annotations/5499219_616x347.xml  \n",
            "  inflating: House/Communities/Dataset/VOC2007/Annotations/4937257e-f9ba-4112-b1d0-62365cb23055_1.cdb0985bdaa1848ef5eebb5610a1a6e8.jpeg.json.xml  \n",
            "  inflating: House/Communities/Dataset/VOC2007/Annotations/2590983-L.xml  \n",
            "  inflating: House/Communities/Dataset/VOC2007/Annotations/2188343_0.xml  \n",
            "  inflating: House/Communities/Dataset/VOC2007/Annotations/2139423_0_rebE2V_p.jpeg.json.xml  \n",
            "  inflating: House/Communities/Dataset/VOC2007/Annotations/1182926-listing.xml  \n",
            "  inflating: House/Communities/Dataset/VOC2007/Annotations/1155570.xml  \n",
            "  inflating: House/Communities/Dataset/VOC2007/Annotations/1155565.xml  \n",
            "  inflating: House/Communities/Dataset/VOC2007/Annotations/626048d4b0357c9c73aa0ca1.xml  \n",
            "  inflating: House/Communities/Dataset/VOC2007/Annotations/547248-istock-667215850.xml  \n",
            "  inflating: House/Communities/Dataset/VOC2007/Annotations/547248-istock-646425534.xml  \n",
            "  inflating: House/Communities/Dataset/VOC2007/Annotations/547248-istock-156935776.xml  \n",
            "  inflating: House/Communities/Dataset/VOC2007/Annotations/461135da025978c3_1702-w312-h312-b0-p0--contemporary-home-gym.xml  \n",
            "  inflating: House/Communities/Dataset/VOC2007/Annotations/416347.xx_large.xml  \n",
            "  inflating: House/Communities/Dataset/VOC2007/Annotations/388099_323619850999077_1084100630_n-700x525.xml  \n",
            "  inflating: House/Communities/Dataset/VOC2007/Annotations/375297_323614667666262_1413903633_n-700x525.xml  \n",
            "  inflating: House/Communities/Dataset/VOC2007/Annotations/190607_vod_tbr_full_hpMain_16x9_992.xml  \n",
            "  inflating: House/Communities/Dataset/VOC2007/Annotations/190601prideflagsAlibiLounge-kf_fad75249c8e8a4f7f41487a20669d0e4.fit-760w.xml  \n",
            "  inflating: House/Communities/Dataset/VOC2007/Annotations/190119-lgbtq-rights-ew-1018a_3a7ddbb8c871806df0cd263904915a88.fit-760w.xml  \n",
            "  inflating: House/Communities/Dataset/VOC2007/Annotations/180125-american-flag-lgbtq-flag-stonewall-ew-1244p_99b057e95a009f7309e31c8ddbad88d9.fit-760w.xml  \n",
            "  inflating: House/Communities/Dataset/VOC2007/Annotations/160531_em_flags.xml  \n",
            "  inflating: House/Communities/Dataset/VOC2007/Annotations/86613b4.xml  \n",
            "  inflating: House/Communities/Dataset/VOC2007/Annotations/041917_PL_Aim4Peace1.xml  \n",
            "  inflating: House/Communities/Dataset/VOC2007/Annotations/040762b176556b8c94f99fa48812095b.xml  \n",
            "  inflating: House/Communities/Dataset/VOC2007/Annotations/32094aab49eff2bcecf1600d9a627c2d.xml  \n",
            "  inflating: House/Communities/Dataset/VOC2007/Annotations/20651_99107_544_Egypt_outside_A.xml  \n",
            "  inflating: House/Communities/Dataset/VOC2007/Annotations/8784b3e9-0a51-451c-bf13-2facd0ee735e-1024x768.jpeg.json.xml  \n",
            "  inflating: House/Communities/Dataset/VOC2007/Annotations/5225rennerrdtwilightphotos*750xx4048-2277-0-211.xml  \n",
            "  inflating: House/Communities/Dataset/VOC2007/Annotations/4545_ug_sl_health-wellness_recplex_banner-image_09162016.xml  \n",
            "  inflating: House/Communities/Dataset/VOC2007/Annotations/3889_OBH--pghpic.xml  \n",
            "  inflating: House/Communities/Dataset/VOC2007/Annotations/2443PKW7RJASJIQHNFCPKXPRM4.xml  \n",
            "  inflating: House/Communities/Dataset/VOC2007/Annotations/2019-holiday-hub_holday-hub_landing-page-header_desktop.xml  \n",
            "  inflating: House/Communities/Dataset/VOC2007/Annotations/2019-holiday-hub_halloween_landing-page-header_desktop.xml  \n",
            "  inflating: House/Communities/Dataset/VOC2007/Annotations/2019-09-18_outdoor-christmas-decor_banner02.xml  \n",
            "  inflating: House/Communities/Dataset/VOC2007/Annotations/2019-3.xml  \n",
            "  inflating: House/Communities/Dataset/VOC2007/Annotations/2019%208:57:39%20AM.xml  \n",
            "  inflating: House/Communities/Dataset/VOC2007/Annotations/2018%209:47:21%20PM.xml  \n",
            "  inflating: House/Communities/Dataset/VOC2007/Annotations/2017WebButtons53.png.json.xml  \n",
            "  inflating: House/Communities/Dataset/VOC2007/Annotations/2017-06-30T160110Z_1851082937_RC135B2D15A0_RTRMADP_3_TEXAS-GAYMARRIAGE-1024x650.xml  \n",
            "  inflating: House/Communities/Dataset/VOC2007/Annotations/2015-06-27T120000Z_68733946_GF10000140710_RTRMADP_3_USA-COURT-GAYMARRIAGE-1024x683.xml  \n",
            "  inflating: House/Communities/Dataset/VOC2007/Annotations/2000-x-1000-EM-Pool.xml  \n",
            "  inflating: House/Communities/Dataset/VOC2007/Annotations/1748thstreetxmasl.xml  \n",
            "  inflating: House/Communities/Dataset/VOC2007/Annotations/1500_center.xml  \n",
            "  inflating: House/Communities/Dataset/VOC2007/Annotations/1200px-The_Kansas_Legends_fountains_in_Kansas_City%2C_Kansas.png.json.xml  \n",
            "  inflating: House/Communities/Dataset/VOC2007/Annotations/711lu8GaGML._SR500,500_.xml  \n",
            "  inflating: House/Communities/Dataset/VOC2007/Annotations/677d36cd9633db3b884134ff2085e08e--swimmingpool-pool-designs.xml  \n",
            "  inflating: House/Communities/Dataset/VOC2007/Annotations/628x471.xml  \n",
            "  inflating: House/Communities/Dataset/VOC2007/Annotations/471A9839.MOV.Still001-1-X3_2.xml  \n",
            "  inflating: House/Communities/Dataset/VOC2007/Annotations/450x300.xml  \n",
            "  inflating: House/Communities/Dataset/VOC2007/Annotations/289e2619-fb4e-43d5-901b-e032fd0cd2ba_1.1086605b4550ac62e94d5cbc11980f6f.jpeg.json.xml  \n",
            "  inflating: House/Communities/Dataset/VOC2007/Annotations/260px-Weatherly_PA_Halloween_house.xml  \n",
            "  inflating: House/Communities/Dataset/VOC2007/Annotations/250px-Tsui_Ping_%28South%29_Estate_Sit-up_Station.xml  \n",
            "  inflating: House/Communities/Dataset/VOC2007/Annotations/250px-Tsui_Ping_%28South%29_Estate_Arm_Pedal_and_Big_Turning_Wheels.xml  \n",
            "  inflating: House/Communities/Dataset/VOC2007/Annotations/220px-Olympic_Swimming_Pool_-_Fast_Lane.xml  \n",
            "  inflating: House/Communities/Dataset/VOC2007/Annotations/220px-Backyardpool.xml  \n",
            "  inflating: House/Communities/Dataset/VOC2007/Annotations/200px-Flag_House%2C_844_East_Pratt_%26_Albemarle_Streets_%28Baltimore%2C_Independent_City%2C_Maryland%29.xml  \n",
            "  inflating: House/Communities/Dataset/VOC2007/Annotations/200px-EqualityHouse_April2016b.xml  \n",
            "  inflating: House/Communities/Dataset/VOC2007/Annotations/151_original.xml  \n",
            "  inflating: House/Communities/Dataset/VOC2007/Annotations/00100lportrait-00100-burst20190704124158740-cover.xml  \n",
            "  inflating: House/Communities/Dataset/VOC2007/Annotations/94b28973d95b7a22b26bc9966f4a28ce.xml  \n",
            "  inflating: House/Communities/Dataset/VOC2007/Annotations/81fEHwGtgbL._SX466_.xml  \n",
            "  inflating: House/Communities/Dataset/VOC2007/Annotations/71ZVeDBBegL._SR500,500_.xml  \n",
            "  inflating: House/Communities/Dataset/VOC2007/Annotations/71ecNQFJVzL._SX425_.xml  \n",
            "  inflating: House/Communities/Dataset/VOC2007/Annotations/70d09460-e42c-4743-8092-7775925fd3f9.xml  \n",
            "  inflating: House/Communities/Dataset/VOC2007/Annotations/69_2168113_2_1559285038.xml  \n",
            "  inflating: House/Communities/Dataset/VOC2007/Annotations/67dd0dcb3e549e7e66a2c8b60d6c1fc1l-m0xd-w1020_h770_q80.xml  \n",
            "  inflating: House/Communities/Dataset/VOC2007/Annotations/54eb61972dbe4_-_lynn-anne-bruns-flickr-cc.xml  \n",
            "  inflating: House/Communities/Dataset/VOC2007/Annotations/51rNRzmgGmL._AC_SY400_.xml  \n",
            "  inflating: House/Communities/Dataset/VOC2007/Annotations/043f679884a8ead1732797048a9474e2l-m1xd-w1020_h770_q80.xml  \n",
            "  inflating: House/Communities/Dataset/VOC2007/Annotations/36dfed6fb6265b6dcb98ba394d6cbc26l-m1xd-w1020_h770_q80.xml  \n",
            "  inflating: House/Communities/Dataset/VOC2007/Annotations/32f9b1c11f0bb539f64a365a4d785758.xml  \n",
            "  inflating: House/Communities/Dataset/VOC2007/Annotations/28fd19_740d8bafc4cf4cb7a34c93a9d8a8231b~mv2_d_6529_2698_s_4_2.webp.json.xml  \n",
            "  inflating: House/Communities/Dataset/VOC2007/Annotations/26a37e438e8043b9ab8a39d39336f2621.xml  \n",
            "  inflating: House/Communities/Dataset/VOC2007/Annotations/19_04_6124_Edit_1.xml  \n",
            "  inflating: House/Communities/Dataset/VOC2007/Annotations/12-ghosts-outdoor-decor-homebnc.xml  \n",
            "  inflating: House/Communities/Dataset/VOC2007/Annotations/11-white-house-lgbt.w700.h700.xml  \n",
            "  inflating: House/Communities/Dataset/VOC2007/Annotations/9a534c9c-8162-4573-86df-972e30ab6aa7-EPA_USA_NEW_YORK_PRIDE_PARADE.xml  \n",
            "  inflating: House/Communities/Dataset/VOC2007/Annotations/8a08af84837e45862ff9363eabf4ad09.xml  \n",
            "  inflating: House/Communities/Dataset/VOC2007/Annotations/6fcaf8cf6cee4699cc957fe1e9d394bel-m1xd-w640_h480_q80.xml  \n",
            "  inflating: House/Communities/Dataset/VOC2007/Annotations/6_2_5.xml  \n",
            "  inflating: House/Communities/Dataset/VOC2007/Annotations/06.xml  \n",
            "  inflating: House/Communities/Dataset/VOC2007/Annotations/5-ways-to-decorate-pumpkins-with-diy-stickers-hero.png.json.xml  \n",
            "  inflating: House/Communities/Dataset/VOC2007/Annotations/5c0055d7c14e1.image.xml  \n",
            "  inflating: House/Communities/Dataset/VOC2007/Annotations/5b2121558c7b8.image.xml  \n",
            "  inflating: House/Communities/Dataset/VOC2007/Annotations/4XsYD8t763jt0nfdDtqtiW5ExRQpVEAmekwBUCtB_1000.xml  \n",
            "  inflating: House/Communities/Dataset/VOC2007/Annotations/4F939648-F1F1-CF0A-527C529546E6E8F5.xml  \n",
            "  inflating: House/Communities/Dataset/VOC2007/Annotations/4b508b00c3ba42058225be202866d155.xml  \n",
            "  inflating: House/Communities/Dataset/VOC2007/Annotations/4-1.xml  \n",
            "  inflating: House/Communities/Dataset/VOC2007/Annotations/3RAUVLXDKZE5RPOS73KWFFOUJU.xml  \n",
            "  inflating: House/Communities/Dataset/VOC2007/Annotations/3ffe22fffbf9cc8812936b153dc62999--dream-houses-my-dream-house.xml  \n",
            "  inflating: House/Communities/Dataset/VOC2007/Annotations/3AFA04FCFF4C3A2FE884C9D3524018CA.xml  \n",
            "  inflating: House/Communities/Dataset/VOC2007/Annotations/3-1.xml  \n",
            "  inflating: House/Communities/Dataset/VOC2007/Annotations/3.xml  \n",
            "  inflating: House/Communities/Dataset/VOC2007/Annotations/2-br-1-bath-house---7617-pennsylvania-ave-kansas-city-mo-building-photo.xml  \n",
            "  inflating: House/Communities/Dataset/VOC2007/Annotations/1*qNZOFQVY9dbsWT3NPZ-Q0Q.png.json.xml  \n",
            "  inflating: House/Communities/Dataset/VOC2007/Annotations/01PLAYGROUND2-jumbo.xml  \n",
            "  inflating: House/Communities/Dataset/VOC2007/Annotations/1*Nz-_svyytwn6Kka9TfV7nA.jpeg.json.xml  \n",
            "  inflating: House/Communities/Dataset/VOC2007/Annotations/1NewInnHousePool-768x405.xml  \n",
            "  inflating: House/Communities/Dataset/VOC2007/Annotations/1*lUSHZBf5p5KhXZwOGi6JZg.png.json.xml  \n",
            "  inflating: House/Communities/Dataset/VOC2007/Annotations/01jpPLAYGROUND1-jumbo.xml  \n",
            "  inflating: House/Communities/Dataset/VOC2007/Annotations/1E09B94E-DDBC-4AA4-AC75-A86D8BC5C56F.xml  \n",
            "  inflating: House/Communities/Dataset/VOC2007/Annotations/1*dyDN_DV1TQt5F39xXZ18iA.png.json.xml  \n",
            "  inflating: House/Communities/Dataset/VOC2007/Annotations/1d.xml  \n",
            "  inflating: House/Communities/Dataset/VOC2007/Annotations/1.xml  \n",
            "  inflating: House/Communities/Dataset/VOC2007/Annotations/0bd545282f44efeea25d33b2e863c43b.xml  \n",
            "  inflating: House/Communities/Dataset/VOC2007/Annotations/_107384156_mediaitem107384155.xml  \n",
            "  inflating: House/Communities/Dataset/VOC2007/Annotations/_107384150_mediaitem107384148.xml  \n",
            "  inflating: House/Communities/Dataset/VOC2007/Annotations/_55280754_houseflorida.xml  \n",
            "  inflating: House/Communities/Dataset/VOC2007/Annotations/Fitness-Course03-Burnham.xml  \n",
            "  inflating: House/Communities/Dataset/VOC2007/Annotations/Fitness-Course02-574.xml  \n",
            "  inflating: House/Communities/Dataset/VOC2007/Annotations/fitness-center.xml  \n",
            "  inflating: House/Communities/Dataset/VOC2007/Annotations/Fitness+805+Fitground+with+Turf.xml  \n",
            "  inflating: House/Communities/Dataset/VOC2007/Annotations/FIT354FRONT-430x287.png.json.xml  \n",
            "  inflating: House/Communities/Dataset/VOC2007/Annotations/FIT305SFRONT-e1535566071659-430x211.png.json.xml  \n",
            "  inflating: House/Communities/Dataset/VOC2007/Annotations/finished-house.xml  \n",
            "  inflating: House/Communities/Dataset/VOC2007/Annotations/find_a_gym.xml  \n",
            "  inflating: House/Communities/Dataset/VOC2007/Annotations/fiberglass-pool-sales-near-me-cost-estimates.xml  \n",
            "  inflating: House/Communities/Dataset/VOC2007/Annotations/feature-FE-1124.xml  \n",
            "  inflating: House/Communities/Dataset/VOC2007/Annotations/family-lazy-river-floaties-cabanas-1680x1136.xml  \n",
            "  inflating: House/Communities/Dataset/VOC2007/Annotations/fall-prep-feature-616a28.xml  \n",
            "  inflating: House/Communities/Dataset/VOC2007/Annotations/facilties-1h6blb9.xml  \n",
            "  inflating: House/Communities/Dataset/VOC2007/Annotations/facility-apex-center-pool.xml  \n",
            "  inflating: House/Communities/Dataset/VOC2007/Annotations/F462TZAFHAI6TFMMBJQBEJX7NM.xml  \n",
            "  inflating: House/Communities/Dataset/VOC2007/Annotations/Extraordinary-Home-Gym-Design-Ideas-15_Sebring-Design-Build.xml  \n",
            "  inflating: House/Communities/Dataset/VOC2007/Annotations/exercise-equipment-workout-390x250.xml  \n",
            "  inflating: House/Communities/Dataset/VOC2007/Annotations/Equality_House_-_Rainbow_House_Across_Street_from_Westboro_Baptist_Church%2C_Topeka%2C_Kansas_%2830224409157%29.xml  \n",
            "  inflating: House/Communities/Dataset/VOC2007/Annotations/EqualityHouse_April2016.xml  \n",
            "  inflating: House/Communities/Dataset/VOC2007/Annotations/Equality%20House%20%2810%29.xml  \n",
            "  inflating: House/Communities/Dataset/VOC2007/Annotations/Equality%20House%20%289%29.xml  \n",
            "  inflating: House/Communities/Dataset/VOC2007/Annotations/embassies-trump-denials-pride.xml  \n",
            "  inflating: House/Communities/Dataset/VOC2007/Annotations/ecf795cfc8a90aec64e79b690f31b776.xml  \n",
            "  inflating: House/Communities/Dataset/VOC2007/Annotations/DSC_7382.xml  \n",
            "  inflating: House/Communities/Dataset/VOC2007/Annotations/DSC_3333-1030x687.xml  \n",
            "  inflating: House/Communities/Dataset/VOC2007/Annotations/DSC_0241-1024x683.xml  \n",
            "  inflating: House/Communities/Dataset/VOC2007/Annotations/dsc_0302_2875d100c6f17fe5bba797d5c5c7390d.fit-760w.xml  \n",
            "  inflating: House/Communities/Dataset/VOC2007/Annotations/dreamstime_s_125420192.xml  \n",
            "  inflating: House/Communities/Dataset/VOC2007/Annotations/diy-outdoor-halloween-decorations-featured-homebnc.xml  \n",
            "  inflating: House/Communities/Dataset/VOC2007/Annotations/DIY-Outdoor-Halloween-Decorating-Ideas-6.xml  \n",
            "  inflating: House/Communities/Dataset/VOC2007/Annotations/DIY-Outdoor-Halloween-Decorating-1.xml  \n",
            "  inflating: House/Communities/Dataset/VOC2007/Annotations/diy-halloween-decor-traditional-halloween-party-sugarandcharm-13-1564172822.xml  \n",
            "  inflating: House/Communities/Dataset/VOC2007/Annotations/diy-halloween-decorations-sugar-charm-trickortreat1-copy-1564173464.xml  \n",
            "  inflating: House/Communities/Dataset/VOC2007/Annotations/diy-halloween-decorations-chandelier-1562621579.xml  \n",
            "  inflating: House/Communities/Dataset/VOC2007/Annotations/diy-halloween-decor-6299309263-bfe8573570-1564172996.xml  \n",
            "  inflating: House/Communities/Dataset/VOC2007/Annotations/dfh_pool-33.xml  \n",
            "  inflating: House/Communities/Dataset/VOC2007/Annotations/Depositphotos_10227541_m-2015-2.xml  \n",
            "  inflating: House/Communities/Dataset/VOC2007/Annotations/depositphotos_214156236-stock-photo-germantown-maryland-usa-september-2018.xml  \n",
            "  inflating: House/Communities/Dataset/VOC2007/Annotations/DEC18_Feature_charm_rainbow.xml  \n",
            "  inflating: House/Communities/Dataset/VOC2007/Annotations/dcrc-inside-2018.xml  \n",
            "  inflating: House/Communities/Dataset/VOC2007/Annotations/dah-rec-center.xml  \n",
            "  inflating: House/Communities/Dataset/VOC2007/Annotations/D3MQ3mgWsAEWocd.xml  \n",
            "  inflating: House/Communities/Dataset/VOC2007/Annotations/d899466e62c6138f568b9f4ec4896c4c.xml  \n",
            "  inflating: House/Communities/Dataset/VOC2007/Annotations/Crillly-Court2.xml  \n",
            "  inflating: House/Communities/Dataset/VOC2007/Annotations/cq5dam.web.1280.1280.jpeg.json.xml  \n",
            "  inflating: House/Communities/Dataset/VOC2007/Annotations/copy-pool-outdoor.xml  \n",
            "  inflating: House/Communities/Dataset/VOC2007/Annotations/community-center-pool.xml  \n",
            "  inflating: House/Communities/Dataset/VOC2007/Annotations/commercial-christmas.xml  \n",
            "  inflating: House/Communities/Dataset/VOC2007/Annotations/clt2.xml  \n",
            "  inflating: House/Communities/Dataset/VOC2007/Annotations/citypool090916161052logo.xml  \n",
            "  inflating: House/Communities/Dataset/VOC2007/Annotations/Christmasyarddecorations-GettyImages-530882595-592c600a5f9b5859504b0336.xml  \n",
            "  inflating: House/Communities/Dataset/VOC2007/Annotations/ChestBackPress-300x231.xml  \n",
            "  inflating: House/Communities/Dataset/VOC2007/Annotations/Cherokee-range-home2.xml  \n",
            "  inflating: House/Communities/Dataset/VOC2007/Annotations/cheap-diy-halloween-decoration-ideas-1068x713.xml  \n",
            "  inflating: House/Communities/Dataset/VOC2007/Annotations/cdb0efc764bb0172240bf286be07fbbc--backyard-gym-backyard-ideas.xml  \n",
            "  inflating: House/Communities/Dataset/VOC2007/Annotations/capitol-building.xml  \n",
            "  inflating: House/Communities/Dataset/VOC2007/Annotations/cacc5cd5baab1c5a4499d2971451f12ac-f0xd-w480_h480_q80.xml  \n",
            "  inflating: House/Communities/Dataset/VOC2007/Annotations/c9dbadc9-c7f5-4f04-bb95-4c740f7ff062-AP_Disunited_Methodists.xml  \n",
            "  inflating: House/Communities/Dataset/VOC2007/Annotations/c8b.xml  \n",
            "  inflating: House/Communities/Dataset/VOC2007/Annotations/c4ccdd8cc0cf5d5f7de76899146fcad0.xml  \n",
            "  inflating: House/Communities/Dataset/VOC2007/Annotations/c1dce1deefd2f0b08a0e2f97a1f29eb0l-m1xd-w1020_h770_q80.xml  \n",
            "  inflating: House/Communities/Dataset/VOC2007/Annotations/bvmp-pool.xml  \n",
            "  inflating: House/Communities/Dataset/VOC2007/Annotations/Bushkill-Creek_2.xml  \n",
            "  inflating: House/Communities/Dataset/VOC2007/Annotations/bunting-homerun-header.png.json.xml  \n",
            "  inflating: House/Communities/Dataset/VOC2007/Annotations/btc_caribbean_village_aerial1.xml  \n",
            "  inflating: House/Communities/Dataset/VOC2007/Annotations/bridgewood-4-936x481.xml  \n",
            "  inflating: House/Communities/Dataset/VOC2007/Annotations/boardwalk-exterior.xml  \n",
            "  inflating: House/Communities/Dataset/VOC2007/Annotations/bluejacket-deck-web.xml  \n",
            "  inflating: House/Communities/Dataset/VOC2007/Annotations/BHPool-WS.xml  \n",
            "  inflating: House/Communities/Dataset/VOC2007/Annotations/best-christmas-towns-in-america-1569966018.xml  \n",
            "  inflating: House/Communities/Dataset/VOC2007/Annotations/best_beach_hotels_nickpuntacana_square.xml  \n",
            "  inflating: House/Communities/Dataset/VOC2007/Annotations/Benavides%20Park%203.xml  \n",
            "  inflating: House/Communities/Dataset/VOC2007/Annotations/BC-US-Pride-Flag-Wisconsin-IMG-jpg-e1560005192826.xml  \n",
            "  inflating: House/Communities/Dataset/VOC2007/Annotations/banner_cafe_pool_4.xml  \n",
            "  inflating: House/Communities/Dataset/VOC2007/Annotations/baf2be21ad7dd3908cb5c18a184a94bel-m0xd-w1020_h770_q80.xml  \n",
            "  inflating: House/Communities/Dataset/VOC2007/Annotations/b1bf56892b52b755775d62e73d2e8caf.xml  \n",
            "  inflating: House/Communities/Dataset/VOC2007/Annotations/arunas-sileika.xml  \n",
            "  inflating: House/Communities/Dataset/VOC2007/Annotations/a-row-of-small-stars-and-stripes-american-flags-on-a-rhode-island-M3P9F4.xml  \n",
            "  inflating: House/Communities/Dataset/VOC2007/Annotations/a-row-of-small-stars-and-stripes-american-flags-on-a-rhode-island-M3P9F3.xml  \n",
            "  inflating: House/Communities/Dataset/VOC2007/Annotations/AP_19166729814828_edited.xml  \n",
            "  inflating: House/Communities/Dataset/VOC2007/Annotations/AngelosIIHalloween1.xml  \n",
            "  inflating: House/Communities/Dataset/VOC2007/Annotations/amp03527.xml  \n",
            "  inflating: House/Communities/Dataset/VOC2007/Annotations/american-flags-peppered-throughout-neighborhood-to-show-their-patriotism-united-states-patriotic-hanging-115916697.xml  \n",
            "  inflating: House/Communities/Dataset/VOC2007/Annotations/american-flags-on-houses-FG9X0Y.xml  \n",
            "  inflating: House/Communities/Dataset/VOC2007/Annotations/american-flags-front-porches-line-suburban-homes-display-large-123731716.xml  \n",
            "  inflating: House/Communities/Dataset/VOC2007/Annotations/american-flags-displayed-on-houses-on-memorial-day-pennsylvania-CRDW34.xml  \n",
            "  inflating: House/Communities/Dataset/VOC2007/Annotations/american-flag-outside-a-house-stock-photo_csp6637892.xml  \n",
            "  inflating: House/Communities/Dataset/VOC2007/Annotations/American-Flag-Outside-.xml  \n",
            "  inflating: House/Communities/Dataset/VOC2007/Annotations/American_flag_Donna_2.xml  \n",
            "  inflating: House/Communities/Dataset/VOC2007/Annotations/all-set-and-ready-for-halloween-at-home-royalty-free-image-97862095-1532015540.xml  \n",
            "  inflating: House/Communities/Dataset/VOC2007/Annotations/alexandria-virginia-usa-historic-houses-and-flags-BB3C27.xml  \n",
            "  inflating: House/Communities/Dataset/VOC2007/Annotations/ah-halloween-2019_get-the-look-mobile.xml  \n",
            "  inflating: House/Communities/Dataset/VOC2007/Annotations/ah-halloween-2019_get-the-look-2.xml  \n",
            "  inflating: House/Communities/Dataset/VOC2007/Annotations/AE-outdoor-fitness-1-e1533042742415-1024x799.xml  \n",
            "  inflating: House/Communities/Dataset/VOC2007/Annotations/AE-blog-pic-Outdoor-training-1024x678-1024x678.xml  \n",
            "  inflating: House/Communities/Dataset/VOC2007/Annotations/Activity%20pool%203.web.xml  \n",
            "  inflating: House/Communities/Dataset/VOC2007/Annotations/activities_whirpool.xml  \n",
            "  inflating: House/Communities/Dataset/VOC2007/Annotations/33541153354843531772.xml  \n",
            "  inflating: House/Communities/Dataset/VOC2007/Annotations/636197539490548280-AP-OBAMA-LEGACY-LGBT-RIGHTS-87724620.xml  \n",
            "  inflating: House/Communities/Dataset/VOC2007/Annotations/20161220185206_12850.png.json.xml  \n",
            "  inflating: House/Communities/Dataset/VOC2007/Annotations/1506777968095.jpeg.json.xml  \n",
            "  inflating: House/Communities/Dataset/VOC2007/Annotations/1506777961366.jpeg.json.xml  \n",
            "  inflating: House/Communities/Dataset/VOC2007/Annotations/1505221498174.jpeg.json.xml  \n",
            "  inflating: House/Communities/Dataset/VOC2007/Annotations/1420698941728.jpeg.json.xml  \n",
            "  inflating: House/Communities/Dataset/VOC2007/Annotations/1420694569216.jpeg.json.xml  \n",
            "  inflating: House/Communities/Dataset/VOC2007/Annotations/1400970149978.jpeg.json.xml  \n",
            "  inflating: House/Communities/Dataset/VOC2007/Annotations/1400948013351.jpeg.json.xml  \n",
            "  inflating: House/Communities/Dataset/VOC2007/Annotations/694940094001_6037782212001_6037782936001-vs.xml  \n",
            "  inflating: House/Communities/Dataset/VOC2007/Annotations/190605141909-pride-flags-file-exlarge-169.xml  \n",
            "  inflating: House/Communities/Dataset/VOC2007/Annotations/171114172828-lgbt-flag-tease-large-169.xml  \n",
            "  inflating: House/Communities/Dataset/VOC2007/Annotations/150626213815-rainbow-white-house-large-169.xml  \n",
            "  inflating: House/Communities/Dataset/VOC2007/Annotations/29906170001_5827456720001_5827444542001-vs.xml  \n",
            "  inflating: House/Communities/Dataset/VOC2007/Annotations/28911775001_6046680988001_6046679683001-vs.xml  \n",
            "  inflating: House/Communities/Dataset/VOC2007/Annotations/26719638121_b2cd2740b7_k-3113-1468164090-c50373564876d11c54b1bbc28dd3bf74.xml  \n",
            "  inflating: House/Communities/Dataset/VOC2007/Annotations/10180302836_a9835d5e53_o.xml  \n",
            "  inflating: House/Communities/Dataset/VOC2007/Annotations/6973479984_983a232fd9.xml  \n",
            "  inflating: House/Communities/Dataset/VOC2007/Annotations/2127061244_5370276b7f_o-5a1a39ba47c26600378ac72f.xml  \n",
            "  inflating: House/Communities/Dataset/VOC2007/Annotations/1562699038-mega-spider-web-outdoor-decoration-1562699031.xml  \n",
            "  inflating: House/Communities/Dataset/VOC2007/Annotations/1469889937-gettyimages-90140540.xml  \n",
            "  inflating: House/Communities/Dataset/VOC2007/Annotations/1469889748-clx1010095a.xml  \n",
            "  inflating: House/Communities/Dataset/VOC2007/Annotations/1468957761-outdoor-halloween-decorations-1.xml  \n",
            "  inflating: House/Communities/Dataset/VOC2007/Annotations/1468277774-vintage-halloween-decorations-house-26.xml  \n",
            "  inflating: House/Communities/Dataset/VOC2007/Annotations/694888240.xml  \n",
            "  inflating: House/Communities/Dataset/VOC2007/Annotations/599372154.xml  \n",
            "  inflating: House/Communities/Dataset/VOC2007/Annotations/478678220.0.xml  \n",
            "  inflating: House/Communities/Dataset/VOC2007/Annotations/201901017-PHs-1619Holiday1Refresh-TopRight.xml  \n",
            "  inflating: House/Communities/Dataset/VOC2007/Annotations/192438888_IMG_0752.xml  \n",
            "  inflating: House/Communities/Dataset/VOC2007/Annotations/117823868-germantown-maryland-usa-august-31-2018-american-and-ornamental-flags-in-front-of-typical-american-ho.xml  \n",
            "  inflating: House/Communities/Dataset/VOC2007/Annotations/SDW16_BG10sD2_210_.xml  \n",
            "  inflating: House/Communities/Dataset/VOC2007/Annotations/Screen-Shot-2019-07-15-at-1.05.51-PM.png.json.xml  \n",
            "  inflating: House/Communities/Dataset/VOC2007/Annotations/Screen+Shot+2019-01-09+at+2.56.10+PM.xml  \n",
            "  inflating: House/Communities/Dataset/VOC2007/Annotations/Screenshot-2019-08-20-at-19.03.22.png.json.xml  \n",
            "  inflating: House/Communities/Dataset/VOC2007/Annotations/screen-shot-2018-01-29-at-075944-am*750xx1082-609-0-10.png.json.xml  \n",
            "  inflating: House/Communities/Dataset/VOC2007/Annotations/Schedules-Facility-Hours.xml  \n",
            "  inflating: House/Communities/Dataset/VOC2007/Annotations/scary-halloween-yard-decoration-with-scary-doll-and-spider-net-replica-also-bat-replica-and-ither-halloween-ornament-.xml  \n",
            "  inflating: House/Communities/Dataset/VOC2007/Annotations/rainbow_flag_house_800_466_90.xml  \n",
            "  inflating: House/Communities/Dataset/VOC2007/Annotations/rainbow_flag_house.xml  \n",
            "  inflating: House/Communities/Dataset/VOC2007/Annotations/q7rWPNJKqKruwOCqF2cDaoHHd179bkxkbd6QJGrk_1000.xml  \n",
            "  inflating: House/Communities/Dataset/VOC2007/Annotations/p-USA-Today---Best-Shopping---Brookside_55_660x440.xml  \n",
            "  inflating: House/Communities/Dataset/VOC2007/Annotations/providence-RI-home.xml  \n",
            "  inflating: House/Communities/Dataset/VOC2007/Annotations/Pride-Month-Historic-LGBTQ-Bars-Atlantic-House-1.xml  \n",
            "  inflating: House/Communities/Dataset/VOC2007/Annotations/pride-flag-us-embassy-israel-file-gty-jef-1900607_hpMain_4x3_992.xml  \n",
            "  inflating: House/Communities/Dataset/VOC2007/Annotations/prestwick-pool.xml  \n",
            "  inflating: House/Communities/Dataset/VOC2007/Annotations/Pool-Windmill2.xml  \n",
            "  inflating: House/Communities/Dataset/VOC2007/Annotations/Pool-top-24-19-1.xml  \n",
            "  inflating: House/Communities/Dataset/VOC2007/Annotations/poolstory.xml  \n",
            "  inflating: House/Communities/Dataset/VOC2007/Annotations/poolmarq.xml  \n",
            "  inflating: House/Communities/Dataset/VOC2007/Annotations/pool-header.xml  \n",
            "  inflating: House/Communities/Dataset/VOC2007/Annotations/pool-DSC_2456-1440x1200.xml  \n",
            "  inflating: House/Communities/Dataset/VOC2007/Annotations/Pool-2nd-Day-small.xml  \n",
            "  inflating: House/Communities/Dataset/VOC2007/Annotations/Pool-2.xml  \n",
            "  inflating: House/Communities/Dataset/VOC2007/Annotations/pool-705x397.xml  \n",
            "  inflating: House/Communities/Dataset/VOC2007/Annotations/pool-600.xml  \n",
            "  inflating: House/Communities/Dataset/VOC2007/Annotations/piratesnew.png.json.xml  \n",
            "  inflating: House/Communities/Dataset/VOC2007/Annotations/photo-03.xml  \n",
            "  inflating: House/Communities/Dataset/VOC2007/Annotations/peter-van-agtmael-washington-trump-inauguration-pence-house-1.xml  \n",
            "  inflating: House/Communities/Dataset/VOC2007/Annotations/people-exercising-late-summer-in-rock-creek-park_ddc-photo.xml  \n",
            "  inflating: House/Communities/Dataset/VOC2007/Annotations/outdoor-residential-flagpoles_d6e5fe6d197a911383fb1d0f82cde4d9_3x2.xml  \n",
            "  inflating: House/Communities/Dataset/VOC2007/Annotations/outdoor-pool-web.xml  \n",
            "  inflating: House/Communities/Dataset/VOC2007/Annotations/moving-usa-apartment-house-rent-buy-small-min.xml  \n",
            "  inflating: House/Communities/Dataset/VOC2007/Annotations/MMR-SignaturePool-1024x676.xml  \n",
            "  inflating: House/Communities/Dataset/VOC2007/Annotations/mid_slide1.xml  \n",
            "  inflating: House/Communities/Dataset/VOC2007/Annotations/merlin_142886631_10bdc0d2-54fe-47ce-b80d-ad7c5aab3092-articleLarge.xml  \n",
            "  inflating: House/Communities/Dataset/VOC2007/Annotations/memorialpool.xml  \n",
            "  inflating: House/Communities/Dataset/VOC2007/Annotations/MCST_1492002797.33.xml  \n",
            "  inflating: House/Communities/Dataset/VOC2007/Annotations/mayors_christmas_tree-web.xml  \n",
            "  inflating: House/Communities/Dataset/VOC2007/Annotations/mayors_christmas_tree_2-web.xml  \n",
            "  inflating: House/Communities/Dataset/VOC2007/Annotations/MAR16_ALINI_FEATURE01.xml  \n",
            "  inflating: House/Communities/Dataset/VOC2007/Annotations/Mang_Pano-213-800-600-80.xml  \n",
            "  inflating: House/Communities/Dataset/VOC2007/Annotations/main.xml  \n",
            "  inflating: House/Communities/Dataset/VOC2007/Annotations/lux1558po-267729-Outdoor-Pool-Seasonal-1-1-768x225.xml  \n",
            "  inflating: House/Communities/Dataset/VOC2007/Annotations/lux1558po-267729-Outdoor-Pool-Seasonal-1-1.xml  \n",
            "  inflating: House/Communities/Dataset/VOC2007/Annotations/living-usa-apartment-house-rent-small-min.xml  \n",
            "  inflating: House/Communities/Dataset/VOC2007/Annotations/Liberty-Memorial-Kansas-City-Missouri.xml  \n",
            "  inflating: House/Communities/Dataset/VOC2007/Annotations/lf7505145-m1xd-w640_h480_q80.xml  \n",
            "  inflating: House/Communities/Dataset/VOC2007/Annotations/lead_720_405.xml  \n",
            "  inflating: House/Communities/Dataset/VOC2007/Annotations/largehousedecoratedforhalloween.xml  \n",
            "  inflating: House/Communities/Dataset/VOC2007/Annotations/ISj3ecr4uza4g91000000000.xml  \n",
            "  inflating: House/Communities/Dataset/VOC2007/Annotations/ISdovw1xly3l441000000000.xml  \n",
            "  inflating: House/Communities/Dataset/VOC2007/Annotations/IS290pazeug4v7.xml  \n",
            "  inflating: House/Communities/Dataset/VOC2007/Annotations/IS6m0tpnyfkhzn0000000000.xml  \n",
            "  inflating: House/Communities/Dataset/VOC2007/Annotations/int-fitness.xml  \n",
            "  inflating: House/Communities/Dataset/VOC2007/Annotations/interior-of-kansas-city-union-station-in-usa-K9AKJ3.xml  \n",
            "  inflating: House/Communities/Dataset/VOC2007/Annotations/inner-banner-pool.png.json.xml  \n",
            "  inflating: House/Communities/Dataset/VOC2007/Annotations/indoor-rec-pool-2016.png.json.xml  \n",
            "  inflating: House/Communities/Dataset/VOC2007/Annotations/indoor-pool-left.xml  \n",
            "  inflating: House/Communities/Dataset/VOC2007/Annotations/Indoor-Pool-Jim-Smith-Photography-1680x1120.xml  \n",
            "  inflating: House/Communities/Dataset/VOC2007/Annotations/Indoor-Outdoor-Spider-Webs-for-Halloween-Costume-party-table-Centerpieces-Bar-Haunted-House-kid-birthday-Decoration.xml  \n",
            "  inflating: House/Communities/Dataset/VOC2007/Annotations/index-original-endless-pools-ns-lg.xml  \n",
            "  inflating: House/Communities/Dataset/VOC2007/Annotations/index-lg.xml  \n",
            "  inflating: House/Communities/Dataset/VOC2007/Annotations/IMG_6122-215-800-600-80.xml  \n",
            "  inflating: House/Communities/Dataset/VOC2007/Annotations/IMG_5895.jpeg.json.xml  \n",
            "  inflating: House/Communities/Dataset/VOC2007/Annotations/IMG_5453%20(1).xml  \n",
            "  inflating: House/Communities/Dataset/VOC2007/Annotations/IMG_3847-1024x768.xml  \n",
            "  inflating: House/Communities/Dataset/VOC2007/Annotations/IMG_0747-153-800-600-80.xml  \n",
            "  inflating: House/Communities/Dataset/VOC2007/Annotations/IMG_0340.xml  \n",
            "  inflating: House/Communities/Dataset/VOC2007/Annotations/IMG_0295.xml  \n",
            "  inflating: House/Communities/Dataset/VOC2007/Annotations/image-3.xml  \n",
            "  inflating: House/Communities/Dataset/VOC2007/Annotations/image893.xml  \n",
            "  inflating: House/Communities/Dataset/VOC2007/Annotations/image887.xml  \n",
            "  inflating: House/Communities/Dataset/VOC2007/Annotations/image2.jpeg.json.xml  \n",
            "  inflating: House/Communities/Dataset/VOC2007/Annotations/IMA-Front.png.json.xml  \n",
            "  inflating: House/Communities/Dataset/VOC2007/Annotations/i097101_preview.xml  \n",
            "  inflating: House/Communities/Dataset/VOC2007/Annotations/HT_Halloween_Decorations1_MEM_161004_4x3_992.xml  \n",
            "  inflating: House/Communities/Dataset/VOC2007/Annotations/hqdefault.xml  \n",
            "  inflating: House/Communities/Dataset/VOC2007/Annotations/HowdershellPark-61-1.xml  \n",
            "  inflating: House/Communities/Dataset/VOC2007/Annotations/HowdershellPark-10-1.xml  \n",
            "  inflating: House/Communities/Dataset/VOC2007/Annotations/halloween-skeleton-lawn-ornaments.xml  \n",
            "  inflating: House/Communities/Dataset/VOC2007/Annotations/halloween-setting-780x520.xml  \n",
            "  inflating: House/Communities/Dataset/VOC2007/Annotations/halloween-porch-1538688356.xml  \n",
            "  inflating: House/Communities/Dataset/VOC2007/Annotations/halloween-ideas-mo.xml  \n",
            "  inflating: House/Communities/Dataset/VOC2007/Annotations/Halloween-House-Decorations.xml  \n",
            "  inflating: House/Communities/Dataset/VOC2007/Annotations/halloween-house-decoration-gty-jpo-171025_4x3_992.xml  \n",
            "  inflating: House/Communities/Dataset/VOC2007/Annotations/halloween-house-decoration-04.xml  \n",
            "  inflating: House/Communities/Dataset/VOC2007/Annotations/halloween-hangings-780x520.xml  \n",
            "  inflating: House/Communities/Dataset/VOC2007/Annotations/halloween-dining-780x520.xml  \n",
            "  inflating: House/Communities/Dataset/VOC2007/Annotations/halloween-decorations-outside-house-in-greenwich-village-new-york-B7M48M.xml  \n",
            "  inflating: House/Communities/Dataset/VOC2007/Annotations/halloween-decorations-outside-a-house-stowe-vermont-new-england-usa-F5GY1W.xml  \n",
            "  inflating: House/Communities/Dataset/VOC2007/Annotations/halloween-decorations-outside-a-home-in-echo-park-east-los-angeles-KFYRHY.xml  \n",
            "  inflating: House/Communities/Dataset/VOC2007/Annotations/halloween-decorations-outdoor-welcome.xml  \n",
            "  inflating: House/Communities/Dataset/VOC2007/Annotations/halloween-decorations-on-a-house-porch-stowe-vermont-vt-new-england-F5FA56.xml  \n",
            "  inflating: House/Communities/Dataset/VOC2007/Annotations/halloween-decorations-in-the-front-garden-of-a-house-in-salem-massachusetts-DHDETD.xml  \n",
            "  inflating: House/Communities/Dataset/VOC2007/Annotations/halloween-decorations-in-the-front-garden-of-a-house-in-salem-massachusetts-DHDERD.xml  \n",
            "  inflating: House/Communities/Dataset/VOC2007/Annotations/halloween-decorations-in-new-orleans-525404300-59d7a01ad088c000100abed4.xml  \n",
            "  inflating: House/Communities/Dataset/VOC2007/Annotations/Halloween6-738x1024.xml  \n",
            "  inflating: House/Communities/Dataset/VOC2007/Annotations/Halloween2-1024x683.xml  \n",
            "  inflating: House/Communities/Dataset/VOC2007/Annotations/gym%20marketing.jpeg.json.xml  \n",
            "  inflating: House/Communities/Dataset/VOC2007/Annotations/group-fitness.xml  \n",
            "  inflating: House/Communities/Dataset/VOC2007/Annotations/Grijalva-Park-Project-by-Greenfields-Outdoor-Fitness-4.xml  \n",
            "  inflating: House/Communities/Dataset/VOC2007/Annotations/GreenfieldsFitnessSniderRecreation.xml  \n",
            "  inflating: House/Communities/Dataset/VOC2007/Annotations/Glaze-OutdoorPool.xml  \n",
            "  inflating: House/Communities/Dataset/VOC2007/Annotations/Glaze-IndoorPool.xml  \n",
            "  inflating: House/Communities/Dataset/VOC2007/Annotations/GettyImages-141510668_copy.0.0.xml  \n",
            "  inflating: House/Communities/Dataset/VOC2007/Annotations/gettyimages-684098860-ii-1558361781.xml  \n",
            "  inflating: House/Communities/Dataset/VOC2007/Annotations/gettyimages-72796984.xml  \n",
            "  inflating: House/Communities/Dataset/VOC2007/Annotations/genMid.2161022_0.xml  \n",
            "  inflating: House/Communities/Dataset/VOC2007/Annotations/genMid.2155441_0.xml  \n",
            "  inflating: House/Communities/Dataset/VOC2007/Annotations/genMid.2121986_2.xml  \n",
            "  inflating: House/Communities/Dataset/VOC2007/Annotations/flag-golden-gate-bridge_full_width.png.json.xml  \n",
            "  inflating: House/Communities/Dataset/VOC2007/Annotations/Fitzmorris-Pool-banner-1024x328.xml  \n",
            "  inflating: House/Communities/Dataset/VOC2007/Annotations/FitnessEquipment3.xml  \n",
            "  inflating: House/Communities/Dataset/VOC2007/Annotations/FitnessCourse01-Burnham.xml  \n",
            "   creating: House/Communities/Dataset/VOC2007/JPEGImages/\n",
            "  inflating: House/Communities/Dataset/VOC2007/JPEGImages/103240683.0.jpg  \n",
            "  inflating: House/Communities/Dataset/VOC2007/JPEGImages/102621128.jpg  \n",
            "  inflating: House/Communities/Dataset/VOC2007/JPEGImages/102620087.jpg  \n",
            "  inflating: House/Communities/Dataset/VOC2007/JPEGImages/85169918.jpg  \n",
            "  inflating: House/Communities/Dataset/VOC2007/JPEGImages/76388846-many-us-flags-on-the-houses-in-new-york.jpg  \n",
            "  inflating: House/Communities/Dataset/VOC2007/JPEGImages/70496472_2180417708736675_6232744600222564352_o.jpg  \n",
            "  inflating: House/Communities/Dataset/VOC2007/JPEGImages/69433817_921789878193082_6787044489509732352_n.jpg  \n",
            "  inflating: House/Communities/Dataset/VOC2007/JPEGImages/56845984-flags-on-porches-of-village-houses.jpg  \n",
            "  inflating: House/Communities/Dataset/VOC2007/JPEGImages/47159688fdcd509d57b0eaa07ae6e647.jpg  \n",
            "  inflating: House/Communities/Dataset/VOC2007/JPEGImages/24210954-c810cbfb92e830376115058443545e5e.jpg  \n",
            "  inflating: House/Communities/Dataset/VOC2007/JPEGImages/20180826_081557.jpg  \n",
            "  inflating: House/Communities/Dataset/VOC2007/JPEGImages/20180730-150336_alameda-parks.jpg  \n",
            "  inflating: House/Communities/Dataset/VOC2007/JPEGImages/20160830_133743.jpg  \n",
            "  inflating: House/Communities/Dataset/VOC2007/JPEGImages/20160615-gay-pride-flags-Orlando.jpg  \n",
            "  inflating: House/Communities/Dataset/VOC2007/JPEGImages/13165833_1175715322439236_6718008880248934636_n.jpg  \n",
            "  inflating: House/Communities/Dataset/VOC2007/JPEGImages/12898221_1020081591393130_5820412540309339342_o.jpg  \n",
            "  inflating: House/Communities/Dataset/VOC2007/JPEGImages/11210397_10152928715037857_5133027995697518468_n.jpg  \n",
            "  inflating: House/Communities/Dataset/VOC2007/JPEGImages/7548171ea9c475ccd1d647b7d357a3df.jpg  \n",
            "  inflating: House/Communities/Dataset/VOC2007/JPEGImages/5771336f2200002e00f831f9.jpeg  \n",
            "  inflating: House/Communities/Dataset/VOC2007/JPEGImages/5499219_616x347.jpg  \n",
            "  inflating: House/Communities/Dataset/VOC2007/JPEGImages/4937257e-f9ba-4112-b1d0-62365cb23055_1.cdb0985bdaa1848ef5eebb5610a1a6e8.jpeg  \n",
            "  inflating: House/Communities/Dataset/VOC2007/JPEGImages/2590983-L.jpg  \n",
            "  inflating: House/Communities/Dataset/VOC2007/JPEGImages/2188343_0.jpg  \n",
            "  inflating: House/Communities/Dataset/VOC2007/JPEGImages/2139423_0_rebE2V_p.jpeg  \n",
            "  inflating: House/Communities/Dataset/VOC2007/JPEGImages/1182926-listing.jpg  \n",
            "  inflating: House/Communities/Dataset/VOC2007/JPEGImages/1155570.jpg  \n",
            "  inflating: House/Communities/Dataset/VOC2007/JPEGImages/1155565.jpg  \n",
            "  inflating: House/Communities/Dataset/VOC2007/JPEGImages/626048d4b0357c9c73aa0ca1.jpg  \n",
            "  inflating: House/Communities/Dataset/VOC2007/JPEGImages/547248-istock-667215850.jpg  \n",
            "  inflating: House/Communities/Dataset/VOC2007/JPEGImages/547248-istock-646425534.jpg  \n",
            "  inflating: House/Communities/Dataset/VOC2007/JPEGImages/547248-istock-156935776.jpg  \n",
            "  inflating: House/Communities/Dataset/VOC2007/JPEGImages/461135da025978c3_1702-w312-h312-b0-p0--contemporary-home-gym.jpg  \n",
            "  inflating: House/Communities/Dataset/VOC2007/JPEGImages/416347.xx_large.jpg  \n",
            "  inflating: House/Communities/Dataset/VOC2007/JPEGImages/388099_323619850999077_1084100630_n-700x525.jpg  \n",
            "  inflating: House/Communities/Dataset/VOC2007/JPEGImages/375297_323614667666262_1413903633_n-700x525.jpg  \n",
            "  inflating: House/Communities/Dataset/VOC2007/JPEGImages/190607_vod_tbr_full_hpMain_16x9_992.jpg  \n",
            "  inflating: House/Communities/Dataset/VOC2007/JPEGImages/190601prideflagsAlibiLounge-kf_fad75249c8e8a4f7f41487a20669d0e4.fit-760w.jpg  \n",
            "  inflating: House/Communities/Dataset/VOC2007/JPEGImages/190119-lgbtq-rights-ew-1018a_3a7ddbb8c871806df0cd263904915a88.fit-760w.jpg  \n",
            "  inflating: House/Communities/Dataset/VOC2007/JPEGImages/180125-american-flag-lgbtq-flag-stonewall-ew-1244p_99b057e95a009f7309e31c8ddbad88d9.fit-760w.jpg  \n",
            "  inflating: House/Communities/Dataset/VOC2007/JPEGImages/160531_em_flags.jpg  \n",
            "  inflating: House/Communities/Dataset/VOC2007/JPEGImages/86613b4.jpg  \n",
            "  inflating: House/Communities/Dataset/VOC2007/JPEGImages/041917_PL_Aim4Peace1.jpg  \n",
            "  inflating: House/Communities/Dataset/VOC2007/JPEGImages/040762b176556b8c94f99fa48812095b.jpg  \n",
            "  inflating: House/Communities/Dataset/VOC2007/JPEGImages/32094aab49eff2bcecf1600d9a627c2d.jpg  \n",
            "  inflating: House/Communities/Dataset/VOC2007/JPEGImages/20651_99107_544_Egypt_outside_A.jpg  \n",
            "  inflating: House/Communities/Dataset/VOC2007/JPEGImages/8784b3e9-0a51-451c-bf13-2facd0ee735e-1024x768.jpeg  \n",
            "  inflating: House/Communities/Dataset/VOC2007/JPEGImages/5225rennerrdtwilightphotos*750xx4048-2277-0-211.jpg  \n",
            "  inflating: House/Communities/Dataset/VOC2007/JPEGImages/4545_ug_sl_health-wellness_recplex_banner-image_09162016.jpg  \n",
            "  inflating: House/Communities/Dataset/VOC2007/JPEGImages/3889_OBH--pghpic.jpg  \n",
            "  inflating: House/Communities/Dataset/VOC2007/JPEGImages/2443PKW7RJASJIQHNFCPKXPRM4.jpg  \n",
            "  inflating: House/Communities/Dataset/VOC2007/JPEGImages/2019-holiday-hub_holday-hub_landing-page-header_desktop.jpg  \n",
            "  inflating: House/Communities/Dataset/VOC2007/JPEGImages/2019-holiday-hub_halloween_landing-page-header_desktop.jpg  \n",
            "  inflating: House/Communities/Dataset/VOC2007/JPEGImages/2019-09-18_outdoor-christmas-decor_banner02.jpg  \n",
            "  inflating: House/Communities/Dataset/VOC2007/JPEGImages/2019-3.jpg  \n",
            "  inflating: House/Communities/Dataset/VOC2007/JPEGImages/2019%208:57:39%20AM.jpg  \n",
            "  inflating: House/Communities/Dataset/VOC2007/JPEGImages/2018%209:47:21%20PM.jpg  \n",
            "  inflating: House/Communities/Dataset/VOC2007/JPEGImages/2017WebButtons53.png  \n",
            "  inflating: House/Communities/Dataset/VOC2007/JPEGImages/2017-06-30T160110Z_1851082937_RC135B2D15A0_RTRMADP_3_TEXAS-GAYMARRIAGE-1024x650.jpg  \n",
            "  inflating: House/Communities/Dataset/VOC2007/JPEGImages/2015-06-27T120000Z_68733946_GF10000140710_RTRMADP_3_USA-COURT-GAYMARRIAGE-1024x683.jpg  \n",
            "  inflating: House/Communities/Dataset/VOC2007/JPEGImages/2000-x-1000-EM-Pool.jpg  \n",
            "  inflating: House/Communities/Dataset/VOC2007/JPEGImages/1748thstreetxmasl.jpg  \n",
            "  inflating: House/Communities/Dataset/VOC2007/JPEGImages/1500_center.jpg  \n",
            "  inflating: House/Communities/Dataset/VOC2007/JPEGImages/1200px-The_Kansas_Legends_fountains_in_Kansas_City%2C_Kansas.png  \n",
            "  inflating: House/Communities/Dataset/VOC2007/JPEGImages/711lu8GaGML._SR500,500_.jpg  \n",
            "  inflating: House/Communities/Dataset/VOC2007/JPEGImages/677d36cd9633db3b884134ff2085e08e--swimmingpool-pool-designs.jpg  \n",
            "  inflating: House/Communities/Dataset/VOC2007/JPEGImages/628x471.jpg  \n",
            "  inflating: House/Communities/Dataset/VOC2007/JPEGImages/471A9839.MOV.Still001-1-X3_2.jpg  \n",
            "  inflating: House/Communities/Dataset/VOC2007/JPEGImages/450x300.jpg  \n",
            "  inflating: House/Communities/Dataset/VOC2007/JPEGImages/289e2619-fb4e-43d5-901b-e032fd0cd2ba_1.1086605b4550ac62e94d5cbc11980f6f.jpeg  \n",
            "  inflating: House/Communities/Dataset/VOC2007/JPEGImages/260px-Weatherly_PA_Halloween_house.jpg  \n",
            "  inflating: House/Communities/Dataset/VOC2007/JPEGImages/250px-Tsui_Ping_%28South%29_Estate_Sit-up_Station.jpg  \n",
            "  inflating: House/Communities/Dataset/VOC2007/JPEGImages/250px-Tsui_Ping_%28South%29_Estate_Arm_Pedal_and_Big_Turning_Wheels.jpg  \n",
            "  inflating: House/Communities/Dataset/VOC2007/JPEGImages/220px-Olympic_Swimming_Pool_-_Fast_Lane.jpg  \n",
            "  inflating: House/Communities/Dataset/VOC2007/JPEGImages/220px-Backyardpool.jpg  \n",
            " extracting: House/Communities/Dataset/VOC2007/JPEGImages/200px-Flag_House%2C_844_East_Pratt_%26_Albemarle_Streets_%28Baltimore%2C_Independent_City%2C_Maryland%29.jpg  \n",
            "  inflating: House/Communities/Dataset/VOC2007/JPEGImages/200px-EqualityHouse_April2016b.jpg  \n",
            "  inflating: House/Communities/Dataset/VOC2007/JPEGImages/151_original.jpg  \n",
            "  inflating: House/Communities/Dataset/VOC2007/JPEGImages/00100lportrait-00100-burst20190704124158740-cover.jpg  \n",
            "  inflating: House/Communities/Dataset/VOC2007/JPEGImages/94b28973d95b7a22b26bc9966f4a28ce.jpg  \n",
            "  inflating: House/Communities/Dataset/VOC2007/JPEGImages/81fEHwGtgbL._SX466_.jpg  \n",
            "  inflating: House/Communities/Dataset/VOC2007/JPEGImages/71ZVeDBBegL._SR500,500_.jpg  \n",
            "  inflating: House/Communities/Dataset/VOC2007/JPEGImages/71ecNQFJVzL._SX425_.jpg  \n",
            "  inflating: House/Communities/Dataset/VOC2007/JPEGImages/70d09460-e42c-4743-8092-7775925fd3f9.jpg  \n",
            "  inflating: House/Communities/Dataset/VOC2007/JPEGImages/69_2168113_2_1559285038.jpg  \n",
            "  inflating: House/Communities/Dataset/VOC2007/JPEGImages/67dd0dcb3e549e7e66a2c8b60d6c1fc1l-m0xd-w1020_h770_q80.jpg  \n",
            "  inflating: House/Communities/Dataset/VOC2007/JPEGImages/54eb61972dbe4_-_lynn-anne-bruns-flickr-cc.jpg  \n",
            "  inflating: House/Communities/Dataset/VOC2007/JPEGImages/51rNRzmgGmL._AC_SY400_.jpg  \n",
            "  inflating: House/Communities/Dataset/VOC2007/JPEGImages/043f679884a8ead1732797048a9474e2l-m1xd-w1020_h770_q80.jpg  \n",
            "  inflating: House/Communities/Dataset/VOC2007/JPEGImages/36dfed6fb6265b6dcb98ba394d6cbc26l-m1xd-w1020_h770_q80.jpg  \n",
            "  inflating: House/Communities/Dataset/VOC2007/JPEGImages/32f9b1c11f0bb539f64a365a4d785758.jpg  \n",
            "  inflating: House/Communities/Dataset/VOC2007/JPEGImages/28fd19_740d8bafc4cf4cb7a34c93a9d8a8231b~mv2_d_6529_2698_s_4_2.webp  \n",
            "  inflating: House/Communities/Dataset/VOC2007/JPEGImages/26a37e438e8043b9ab8a39d39336f2621.jpg  \n",
            "  inflating: House/Communities/Dataset/VOC2007/JPEGImages/19_04_6124_Edit_1.jpg  \n",
            "  inflating: House/Communities/Dataset/VOC2007/JPEGImages/14.-University-of-Akron.jpg  \n",
            "  inflating: House/Communities/Dataset/VOC2007/JPEGImages/12-ghosts-outdoor-decor-homebnc.jpg  \n",
            "  inflating: House/Communities/Dataset/VOC2007/JPEGImages/11-white-house-lgbt.w700.h700.jpg  \n",
            "  inflating: House/Communities/Dataset/VOC2007/JPEGImages/9a534c9c-8162-4573-86df-972e30ab6aa7-EPA_USA_NEW_YORK_PRIDE_PARADE.jpg  \n",
            "  inflating: House/Communities/Dataset/VOC2007/JPEGImages/8a08af84837e45862ff9363eabf4ad09.jpg  \n",
            "  inflating: House/Communities/Dataset/VOC2007/JPEGImages/6fcaf8cf6cee4699cc957fe1e9d394bel-m1xd-w640_h480_q80.jpg  \n",
            "  inflating: House/Communities/Dataset/VOC2007/JPEGImages/6_2_5.jpg  \n",
            "  inflating: House/Communities/Dataset/VOC2007/JPEGImages/06.jpg  \n",
            "  inflating: House/Communities/Dataset/VOC2007/JPEGImages/5-ways-to-decorate-pumpkins-with-diy-stickers-hero.png  \n",
            "  inflating: House/Communities/Dataset/VOC2007/JPEGImages/5c0055d7c14e1.image.jpg  \n",
            "  inflating: House/Communities/Dataset/VOC2007/JPEGImages/5b2121558c7b8.image.jpg  \n",
            "  inflating: House/Communities/Dataset/VOC2007/JPEGImages/4XsYD8t763jt0nfdDtqtiW5ExRQpVEAmekwBUCtB_1000.jpg  \n",
            "  inflating: House/Communities/Dataset/VOC2007/JPEGImages/4F939648-F1F1-CF0A-527C529546E6E8F5.jpg  \n",
            "  inflating: House/Communities/Dataset/VOC2007/JPEGImages/4b508b00c3ba42058225be202866d155.jpg  \n",
            "  inflating: House/Communities/Dataset/VOC2007/JPEGImages/4-1.jpg  \n",
            "  inflating: House/Communities/Dataset/VOC2007/JPEGImages/3RAUVLXDKZE5RPOS73KWFFOUJU.jpg  \n",
            "  inflating: House/Communities/Dataset/VOC2007/JPEGImages/3ffe22fffbf9cc8812936b153dc62999--dream-houses-my-dream-house.jpg  \n",
            "  inflating: House/Communities/Dataset/VOC2007/JPEGImages/3AFA04FCFF4C3A2FE884C9D3524018CA.jpg  \n",
            "  inflating: House/Communities/Dataset/VOC2007/JPEGImages/3-1.jpg  \n",
            "  inflating: House/Communities/Dataset/VOC2007/JPEGImages/3.jpg  \n",
            "  inflating: House/Communities/Dataset/VOC2007/JPEGImages/2-br-1-bath-house---7617-pennsylvania-ave-kansas-city-mo-building-photo.jpg  \n",
            "  inflating: House/Communities/Dataset/VOC2007/JPEGImages/1*qNZOFQVY9dbsWT3NPZ-Q0Q.png  \n",
            "  inflating: House/Communities/Dataset/VOC2007/JPEGImages/01PLAYGROUND2-jumbo.jpg  \n",
            "  inflating: House/Communities/Dataset/VOC2007/JPEGImages/1*Nz-_svyytwn6Kka9TfV7nA.jpeg  \n",
            "  inflating: House/Communities/Dataset/VOC2007/JPEGImages/1NewInnHousePool-768x405.jpg  \n",
            "  inflating: House/Communities/Dataset/VOC2007/JPEGImages/1*lUSHZBf5p5KhXZwOGi6JZg.png  \n",
            "  inflating: House/Communities/Dataset/VOC2007/JPEGImages/01jpPLAYGROUND1-jumbo.jpg  \n",
            "  inflating: House/Communities/Dataset/VOC2007/JPEGImages/1E09B94E-DDBC-4AA4-AC75-A86D8BC5C56F.jpg  \n",
            "  inflating: House/Communities/Dataset/VOC2007/JPEGImages/1*dyDN_DV1TQt5F39xXZ18iA.png  \n",
            "  inflating: House/Communities/Dataset/VOC2007/JPEGImages/1d.jpg  \n",
            "  inflating: House/Communities/Dataset/VOC2007/JPEGImages/1.jpg  \n",
            "  inflating: House/Communities/Dataset/VOC2007/JPEGImages/0bd545282f44efeea25d33b2e863c43b.jpg  \n",
            "  inflating: House/Communities/Dataset/VOC2007/JPEGImages/_107384156_mediaitem107384155.jpg  \n",
            "  inflating: House/Communities/Dataset/VOC2007/JPEGImages/_107384150_mediaitem107384148.jpg  \n",
            "  inflating: House/Communities/Dataset/VOC2007/JPEGImages/_55280754_houseflorida.jpg  \n",
            "  inflating: House/Communities/Dataset/VOC2007/JPEGImages/Equality_House_-_Rainbow_House_Across_Street_from_Westboro_Baptist_Church%2C_Topeka%2C_Kansas_%2830224409157%29.jpg  \n",
            "  inflating: House/Communities/Dataset/VOC2007/JPEGImages/EqualityHouse_April2016.jpg  \n",
            "  inflating: House/Communities/Dataset/VOC2007/JPEGImages/Equality%20House%20%2810%29.jpg  \n",
            "  inflating: House/Communities/Dataset/VOC2007/JPEGImages/Equality%20House%20%289%29.jpg  \n",
            "  inflating: House/Communities/Dataset/VOC2007/JPEGImages/embassies-trump-denials-pride.jpg  \n",
            "  inflating: House/Communities/Dataset/VOC2007/JPEGImages/ecf795cfc8a90aec64e79b690f31b776.jpg  \n",
            "  inflating: House/Communities/Dataset/VOC2007/JPEGImages/easy-order-fiberglass-flagpole.png  \n",
            "  inflating: House/Communities/Dataset/VOC2007/JPEGImages/e1916dfe-29ac-41ca-9e64-eb2ddd1f71f6-2060x2060.jpeg  \n",
            "  inflating: House/Communities/Dataset/VOC2007/JPEGImages/e801c38c4ec6a6972dfa9066fa724714.jpg  \n",
            "  inflating: House/Communities/Dataset/VOC2007/JPEGImages/e71f2f3bedd86833053cbaf245a7bedf--pumpkin-decorating-fall-decorating.jpg  \n",
            "  inflating: House/Communities/Dataset/VOC2007/JPEGImages/e57d25de5931f89270d6a6f743a0d944.jpg  \n",
            "  inflating: House/Communities/Dataset/VOC2007/JPEGImages/e1f371be366ef72bf692941a2afed5ae.jpg  \n",
            "  inflating: House/Communities/Dataset/VOC2007/JPEGImages/DSCN0188.jpg  \n",
            "  inflating: House/Communities/Dataset/VOC2007/JPEGImages/dscn8191.jpg  \n",
            "  inflating: House/Communities/Dataset/VOC2007/JPEGImages/dscn1340_5x7-copy.jpg  \n",
            "  inflating: House/Communities/Dataset/VOC2007/JPEGImages/DSCF4096.jpg  \n",
            "  inflating: House/Communities/Dataset/VOC2007/JPEGImages/DSCF4095.jpg  \n",
            "  inflating: House/Communities/Dataset/VOC2007/JPEGImages/DSCF4094.jpg  \n",
            "  inflating: House/Communities/Dataset/VOC2007/JPEGImages/DSC_7382.jpg  \n",
            "  inflating: House/Communities/Dataset/VOC2007/JPEGImages/DSC_3333-1030x687.jpg  \n",
            "  inflating: House/Communities/Dataset/VOC2007/JPEGImages/DSC_0241-1024x683.jpg  \n",
            "  inflating: House/Communities/Dataset/VOC2007/JPEGImages/dsc_0302_2875d100c6f17fe5bba797d5c5c7390d.fit-760w.jpg  \n",
            "  inflating: House/Communities/Dataset/VOC2007/JPEGImages/dreamstime_s_125420192.jpg  \n",
            "  inflating: House/Communities/Dataset/VOC2007/JPEGImages/diy-outdoor-halloween-decorations-featured-homebnc.jpg  \n",
            "  inflating: House/Communities/Dataset/VOC2007/JPEGImages/DIY-Outdoor-Halloween-Decorating-Ideas-6.jpg  \n",
            "  inflating: House/Communities/Dataset/VOC2007/JPEGImages/DIY-Outdoor-Halloween-Decorating-1.jpg  \n",
            "  inflating: House/Communities/Dataset/VOC2007/JPEGImages/diy-halloween-decor-traditional-halloween-party-sugarandcharm-13-1564172822.jpg  \n",
            "  inflating: House/Communities/Dataset/VOC2007/JPEGImages/diy-halloween-decorations-sugar-charm-trickortreat1-copy-1564173464.jpg  \n",
            "  inflating: House/Communities/Dataset/VOC2007/JPEGImages/diy-halloween-decorations-chandelier-1562621579.jpg  \n",
            "  inflating: House/Communities/Dataset/VOC2007/JPEGImages/diy-halloween-decor-6299309263-bfe8573570-1564172996.jpg  \n",
            "  inflating: House/Communities/Dataset/VOC2007/JPEGImages/dive-pool-shopped-and-slider-cropped.jpg  \n",
            "  inflating: House/Communities/Dataset/VOC2007/JPEGImages/different-decoration-toy-for-xmas-tree-on-christmas-royalty-free-image-1049270394-1541441197.jpg  \n",
            "  inflating: House/Communities/Dataset/VOC2007/JPEGImages/dfh_pool-33.jpg  \n",
            "  inflating: House/Communities/Dataset/VOC2007/JPEGImages/Depositphotos_10227541_m-2015-2.jpg  \n",
            "  inflating: House/Communities/Dataset/VOC2007/JPEGImages/depositphotos_214156236-stock-photo-germantown-maryland-usa-september-2018.jpg  \n",
            "  inflating: House/Communities/Dataset/VOC2007/JPEGImages/DEC18_Feature_charm_rainbow.jpg  \n",
            "  inflating: House/Communities/Dataset/VOC2007/JPEGImages/dcrc-inside-2018.jpg  \n",
            "  inflating: House/Communities/Dataset/VOC2007/JPEGImages/dah-rec-center.jpg  \n",
            "  inflating: House/Communities/Dataset/VOC2007/JPEGImages/D3MQ3mgWsAEWocd.jpg  \n",
            "  inflating: House/Communities/Dataset/VOC2007/JPEGImages/d899466e62c6138f568b9f4ec4896c4c.jpg  \n",
            "  inflating: House/Communities/Dataset/VOC2007/JPEGImages/Crillly-Court2.jpg  \n",
            "  inflating: House/Communities/Dataset/VOC2007/JPEGImages/cq5dam.web.1280.1280.jpeg  \n",
            "  inflating: House/Communities/Dataset/VOC2007/JPEGImages/copy-pool-outdoor.jpg  \n",
            "  inflating: House/Communities/Dataset/VOC2007/JPEGImages/community-center-pool.jpg  \n",
            "  inflating: House/Communities/Dataset/VOC2007/JPEGImages/commercial-christmas.jpg  \n",
            "  inflating: House/Communities/Dataset/VOC2007/JPEGImages/clt2.jpg  \n",
            "  inflating: House/Communities/Dataset/VOC2007/JPEGImages/citypool090916161052logo.jpg  \n",
            "  inflating: House/Communities/Dataset/VOC2007/JPEGImages/Christmasyarddecorations-GettyImages-530882595-592c600a5f9b5859504b0336.jpg  \n",
            "  inflating: House/Communities/Dataset/VOC2007/JPEGImages/ChestBackPress-300x231.jpg  \n",
            "  inflating: House/Communities/Dataset/VOC2007/JPEGImages/Cherokee-range-home2.jpg  \n",
            "  inflating: House/Communities/Dataset/VOC2007/JPEGImages/cheap-diy-halloween-decoration-ideas-1068x713.jpg  \n",
            "  inflating: House/Communities/Dataset/VOC2007/JPEGImages/cdb0efc764bb0172240bf286be07fbbc--backyard-gym-backyard-ideas.jpg  \n",
            "  inflating: House/Communities/Dataset/VOC2007/JPEGImages/capitol-building.jpg  \n",
            "  inflating: House/Communities/Dataset/VOC2007/JPEGImages/cacc5cd5baab1c5a4499d2971451f12ac-f0xd-w480_h480_q80.jpg  \n",
            "  inflating: House/Communities/Dataset/VOC2007/JPEGImages/c9dbadc9-c7f5-4f04-bb95-4c740f7ff062-AP_Disunited_Methodists.jpg  \n",
            "  inflating: House/Communities/Dataset/VOC2007/JPEGImages/c8b.jpg  \n",
            "  inflating: House/Communities/Dataset/VOC2007/JPEGImages/c4ccdd8cc0cf5d5f7de76899146fcad0.jpg  \n",
            "  inflating: House/Communities/Dataset/VOC2007/JPEGImages/c1dce1deefd2f0b08a0e2f97a1f29eb0l-m1xd-w1020_h770_q80.jpg  \n",
            "  inflating: House/Communities/Dataset/VOC2007/JPEGImages/bvmp-pool.jpg  \n",
            "  inflating: House/Communities/Dataset/VOC2007/JPEGImages/Bushkill-Creek_2.jpg  \n",
            "  inflating: House/Communities/Dataset/VOC2007/JPEGImages/bunting-homerun-header.png  \n",
            "  inflating: House/Communities/Dataset/VOC2007/JPEGImages/btc_caribbean_village_aerial1.jpg  \n",
            "  inflating: House/Communities/Dataset/VOC2007/JPEGImages/bridgewood-4-936x481.jpg  \n",
            "  inflating: House/Communities/Dataset/VOC2007/JPEGImages/boardwalk-exterior.jpg  \n",
            "  inflating: House/Communities/Dataset/VOC2007/JPEGImages/bluejacket-deck-web.jpg  \n",
            "  inflating: House/Communities/Dataset/VOC2007/JPEGImages/BHPool-WS.jpg  \n",
            "  inflating: House/Communities/Dataset/VOC2007/JPEGImages/best-christmas-towns-in-america-1569966018.jpg  \n",
            "  inflating: House/Communities/Dataset/VOC2007/JPEGImages/best_beach_hotels_nickpuntacana_square.jpg  \n",
            "  inflating: House/Communities/Dataset/VOC2007/JPEGImages/Benavides%20Park%203.jpg  \n",
            "  inflating: House/Communities/Dataset/VOC2007/JPEGImages/BC-US-Pride-Flag-Wisconsin-IMG-jpg-e1560005192826.jpg  \n",
            "  inflating: House/Communities/Dataset/VOC2007/JPEGImages/banner_cafe_pool_4.jpg  \n",
            "  inflating: House/Communities/Dataset/VOC2007/JPEGImages/baf2be21ad7dd3908cb5c18a184a94bel-m0xd-w1020_h770_q80.jpg  \n",
            "  inflating: House/Communities/Dataset/VOC2007/JPEGImages/b1bf56892b52b755775d62e73d2e8caf.jpg  \n",
            "  inflating: House/Communities/Dataset/VOC2007/JPEGImages/arunas-sileika.jpg  \n",
            "  inflating: House/Communities/Dataset/VOC2007/JPEGImages/a-row-of-small-stars-and-stripes-american-flags-on-a-rhode-island-M3P9F4.jpg  \n",
            "  inflating: House/Communities/Dataset/VOC2007/JPEGImages/a-row-of-small-stars-and-stripes-american-flags-on-a-rhode-island-M3P9F3.jpg  \n",
            "  inflating: House/Communities/Dataset/VOC2007/JPEGImages/AP_19166729814828_edited.jpg  \n",
            "  inflating: House/Communities/Dataset/VOC2007/JPEGImages/AngelosIIHalloween1.jpg  \n",
            "  inflating: House/Communities/Dataset/VOC2007/JPEGImages/amp03527.jpg  \n",
            "  inflating: House/Communities/Dataset/VOC2007/JPEGImages/american-flags-peppered-throughout-neighborhood-to-show-their-patriotism-united-states-patriotic-hanging-115916697.jpg  \n",
            "  inflating: House/Communities/Dataset/VOC2007/JPEGImages/american-flags-on-houses-FG9X0Y.jpg  \n",
            "  inflating: House/Communities/Dataset/VOC2007/JPEGImages/american-flags-front-porches-line-suburban-homes-display-large-123731716.jpg  \n",
            "  inflating: House/Communities/Dataset/VOC2007/JPEGImages/american-flags-displayed-on-houses-on-memorial-day-pennsylvania-CRDW34.jpg  \n",
            "  inflating: House/Communities/Dataset/VOC2007/JPEGImages/american-flag-outside-a-house-stock-photo_csp6637892.jpg  \n",
            "  inflating: House/Communities/Dataset/VOC2007/JPEGImages/American-Flag-Outside-.jpg  \n",
            "  inflating: House/Communities/Dataset/VOC2007/JPEGImages/American_flag_Donna_2.jpg  \n",
            "  inflating: House/Communities/Dataset/VOC2007/JPEGImages/all-set-and-ready-for-halloween-at-home-royalty-free-image-97862095-1532015540.jpg  \n",
            "  inflating: House/Communities/Dataset/VOC2007/JPEGImages/alexandria-virginia-usa-historic-houses-and-flags-BB3C27.jpg  \n",
            "  inflating: House/Communities/Dataset/VOC2007/JPEGImages/a_IMG_146202.jpg  \n",
            "  inflating: House/Communities/Dataset/VOC2007/JPEGImages/ah-halloween-2019_get-the-look-mobile.jpg  \n",
            "  inflating: House/Communities/Dataset/VOC2007/JPEGImages/ah-halloween-2019_get-the-look-2.jpg  \n",
            "  inflating: House/Communities/Dataset/VOC2007/JPEGImages/AE-outdoor-fitness-1-e1533042742415-1024x799.jpg  \n",
            "  inflating: House/Communities/Dataset/VOC2007/JPEGImages/AE-blog-pic-Outdoor-training-1024x678-1024x678.jpg  \n",
            "  inflating: House/Communities/Dataset/VOC2007/JPEGImages/Activity%20pool%203.web.jpg  \n",
            "  inflating: House/Communities/Dataset/VOC2007/JPEGImages/activities_whirpool.jpg  \n",
            "  inflating: House/Communities/Dataset/VOC2007/JPEGImages/a080a8ea919efb468dfda01bf2e7cca5.jpg  \n",
            "  inflating: House/Communities/Dataset/VOC2007/JPEGImages/33541153354843531772.jpg  \n",
            "  inflating: House/Communities/Dataset/VOC2007/JPEGImages/636197539490548280-AP-OBAMA-LEGACY-LGBT-RIGHTS-87724620.jpg  \n",
            "  inflating: House/Communities/Dataset/VOC2007/JPEGImages/20161220185206_12850.png  \n",
            "  inflating: House/Communities/Dataset/VOC2007/JPEGImages/1506777968095.jpeg  \n",
            "  inflating: House/Communities/Dataset/VOC2007/JPEGImages/1506777961366.jpeg  \n",
            "  inflating: House/Communities/Dataset/VOC2007/JPEGImages/1505221498174.jpeg  \n",
            "  inflating: House/Communities/Dataset/VOC2007/JPEGImages/1420698941728.jpeg  \n",
            "  inflating: House/Communities/Dataset/VOC2007/JPEGImages/1420694569216.jpeg  \n",
            "  inflating: House/Communities/Dataset/VOC2007/JPEGImages/1400970149978.jpeg  \n",
            "  inflating: House/Communities/Dataset/VOC2007/JPEGImages/1400948013351.jpeg  \n",
            "  inflating: House/Communities/Dataset/VOC2007/JPEGImages/694940094001_6037782212001_6037782936001-vs.jpg  \n",
            "  inflating: House/Communities/Dataset/VOC2007/JPEGImages/190605141909-pride-flags-file-exlarge-169.jpg  \n",
            "  inflating: House/Communities/Dataset/VOC2007/JPEGImages/171114172828-lgbt-flag-tease-large-169.jpg  \n",
            "  inflating: House/Communities/Dataset/VOC2007/JPEGImages/150626213815-rainbow-white-house-large-169.jpg  \n",
            "  inflating: House/Communities/Dataset/VOC2007/JPEGImages/29906170001_5827456720001_5827444542001-vs.jpg  \n",
            "  inflating: House/Communities/Dataset/VOC2007/JPEGImages/28911775001_6046680988001_6046679683001-vs.jpg  \n",
            "  inflating: House/Communities/Dataset/VOC2007/JPEGImages/26719638121_b2cd2740b7_k-3113-1468164090-c50373564876d11c54b1bbc28dd3bf74.jpg  \n",
            "  inflating: House/Communities/Dataset/VOC2007/JPEGImages/10180302836_a9835d5e53_o.jpg  \n",
            "  inflating: House/Communities/Dataset/VOC2007/JPEGImages/6973479984_983a232fd9.jpg  \n",
            "  inflating: House/Communities/Dataset/VOC2007/JPEGImages/2127061244_5370276b7f_o-5a1a39ba47c26600378ac72f.jpg  \n",
            "  inflating: House/Communities/Dataset/VOC2007/JPEGImages/1562699038-mega-spider-web-outdoor-decoration-1562699031.jpg  \n",
            "  inflating: House/Communities/Dataset/VOC2007/JPEGImages/1469889937-gettyimages-90140540.jpg  \n",
            "  inflating: House/Communities/Dataset/VOC2007/JPEGImages/1469889748-clx1010095a.jpg  \n",
            "  inflating: House/Communities/Dataset/VOC2007/JPEGImages/1468957761-outdoor-halloween-decorations-1.jpg  \n",
            "  inflating: House/Communities/Dataset/VOC2007/JPEGImages/1468277774-vintage-halloween-decorations-house-26.jpg  \n",
            "  inflating: House/Communities/Dataset/VOC2007/JPEGImages/694888240.jpg  \n",
            "  inflating: House/Communities/Dataset/VOC2007/JPEGImages/599372154.jpg  \n",
            "  inflating: House/Communities/Dataset/VOC2007/JPEGImages/478678220.0.jpg  \n",
            "  inflating: House/Communities/Dataset/VOC2007/JPEGImages/201901017-PHs-1619Holiday1Refresh-TopRight.jpg  \n",
            "  inflating: House/Communities/Dataset/VOC2007/JPEGImages/192438888_IMG_0752.jpg  \n",
            "  inflating: House/Communities/Dataset/VOC2007/JPEGImages/117823868-germantown-maryland-usa-august-31-2018-american-and-ornamental-flags-in-front-of-typical-american-ho.jpg  \n",
            "  inflating: House/Communities/Dataset/VOC2007/JPEGImages/104429403-GettyImages-87182699.jpg  \n",
            "  inflating: House/Communities/Dataset/VOC2007/JPEGImages/iStock_000020205279Medium-e1428680828466.jpg  \n",
            "  inflating: House/Communities/Dataset/VOC2007/JPEGImages/iStock-1026060858-1024x768.jpg  \n",
            "  inflating: House/Communities/Dataset/VOC2007/JPEGImages/istock-174386882.jpg  \n",
            "  inflating: House/Communities/Dataset/VOC2007/JPEGImages/ISlay744s2j7ww0000000000.jpg  \n",
            "  inflating: House/Communities/Dataset/VOC2007/JPEGImages/ISj3ecr4uza4g91000000000.jpg  \n",
            "  inflating: House/Communities/Dataset/VOC2007/JPEGImages/ISdovw1xly3l441000000000.jpg  \n",
            "  inflating: House/Communities/Dataset/VOC2007/JPEGImages/IS290pazeug4v7.jpg  \n",
            "  inflating: House/Communities/Dataset/VOC2007/JPEGImages/IS6m0tpnyfkhzn0000000000.jpg  \n",
            "  inflating: House/Communities/Dataset/VOC2007/JPEGImages/int-fitness.jpg  \n",
            "  inflating: House/Communities/Dataset/VOC2007/JPEGImages/interior-of-kansas-city-union-station-in-usa-K9AKJ3.jpg  \n",
            "  inflating: House/Communities/Dataset/VOC2007/JPEGImages/inner-banner-pool.png  \n",
            "  inflating: House/Communities/Dataset/VOC2007/JPEGImages/indoor-rec-pool-2016.png  \n",
            "  inflating: House/Communities/Dataset/VOC2007/JPEGImages/indoor-pool-left.jpg  \n",
            "  inflating: House/Communities/Dataset/VOC2007/JPEGImages/Indoor-Pool-Jim-Smith-Photography-1680x1120.jpg  \n",
            "  inflating: House/Communities/Dataset/VOC2007/JPEGImages/Indoor-Outdoor-Spider-Webs-for-Halloween-Costume-party-table-Centerpieces-Bar-Haunted-House-kid-birthday-Decoration.jpg  \n",
            "  inflating: House/Communities/Dataset/VOC2007/JPEGImages/index-original-endless-pools-ns-lg.jpg  \n",
            "  inflating: House/Communities/Dataset/VOC2007/JPEGImages/index-lg.jpg  \n",
            "  inflating: House/Communities/Dataset/VOC2007/JPEGImages/IMG_6122-215-800-600-80.jpg  \n",
            "  inflating: House/Communities/Dataset/VOC2007/JPEGImages/IMG_5895.jpeg  \n",
            "  inflating: House/Communities/Dataset/VOC2007/JPEGImages/IMG_5453%20(1).jpg  \n",
            "  inflating: House/Communities/Dataset/VOC2007/JPEGImages/IMG_3847-1024x768.jpg  \n",
            "  inflating: House/Communities/Dataset/VOC2007/JPEGImages/IMG_0747-153-800-600-80.jpg  \n",
            "  inflating: House/Communities/Dataset/VOC2007/JPEGImages/IMG_0340.jpg  \n",
            "  inflating: House/Communities/Dataset/VOC2007/JPEGImages/IMG_0295.jpg  \n",
            "  inflating: House/Communities/Dataset/VOC2007/JPEGImages/image-3.jpg  \n",
            "  inflating: House/Communities/Dataset/VOC2007/JPEGImages/image893.jpg  \n",
            "  inflating: House/Communities/Dataset/VOC2007/JPEGImages/image887.jpg  \n",
            "  inflating: House/Communities/Dataset/VOC2007/JPEGImages/image2.jpeg  \n",
            "  inflating: House/Communities/Dataset/VOC2007/JPEGImages/IMA-Front.png  \n",
            "  inflating: House/Communities/Dataset/VOC2007/JPEGImages/i097101_preview.jpg  \n",
            "  inflating: House/Communities/Dataset/VOC2007/JPEGImages/HT_Halloween_Decorations1_MEM_161004_4x3_992.jpg  \n",
            "  inflating: House/Communities/Dataset/VOC2007/JPEGImages/hqdefault.jpg  \n",
            "  inflating: House/Communities/Dataset/VOC2007/JPEGImages/HowdershellPark-61-1.jpg  \n",
            "  inflating: House/Communities/Dataset/VOC2007/JPEGImages/HowdershellPark-10-1.jpg  \n",
            "  inflating: House/Communities/Dataset/VOC2007/JPEGImages/housing-and-home-care-older-lgbtq2-slide-deck-300x232.png  \n",
            "  inflating: House/Communities/Dataset/VOC2007/JPEGImages/house-window-halloween-decoration.jpg  \n",
            "  inflating: House/Communities/Dataset/VOC2007/JPEGImages/houses-in-the-suburbs-with-an-american-flag-B168TY.jpg  \n",
            "  inflating: House/Communities/Dataset/VOC2007/JPEGImages/Houses%20with%20flags%20get%20noticed.jpg  \n",
            "  inflating: House/Communities/Dataset/VOC2007/JPEGImages/House-of-Xtravaganza-Jose-Balarama-Heller-IH7.jpg  \n",
            "  inflating: House/Communities/Dataset/VOC2007/JPEGImages/house.1.jpg  \n",
            "  inflating: House/Communities/Dataset/VOC2007/JPEGImages/hotel-world-famous-pool.jpg  \n",
            "  inflating: House/Communities/Dataset/VOC2007/JPEGImages/home-slide-1500x430.jpg  \n",
            "  inflating: House/Communities/Dataset/VOC2007/JPEGImages/Homepage-Low-Impact-2019.jpg  \n",
            "  inflating: House/Communities/Dataset/VOC2007/JPEGImages/homeless-veterans-3.jpg  \n",
            "  inflating: House/Communities/Dataset/VOC2007/JPEGImages/holemoor-ukc1296-768x405.jpg  \n",
            "  inflating: House/Communities/Dataset/VOC2007/JPEGImages/historical-category_s.jpg  \n",
            "  inflating: House/Communities/Dataset/VOC2007/JPEGImages/HeroImage_Be-Active_9.13_2.jpg  \n",
            "  inflating: House/Communities/Dataset/VOC2007/JPEGImages/HealthBeat-Outdoor-Fitness-Equipment2.jpg  \n",
            "  inflating: House/Communities/Dataset/VOC2007/JPEGImages/HealthBeat-Outdoor-Fitness-Equipment1.jpg  \n",
            "  inflating: House/Communities/Dataset/VOC2007/JPEGImages/HAUNTED.png  \n",
            "  inflating: House/Communities/Dataset/VOC2007/JPEGImages/Halloween-towns-6.jpg  \n",
            "  inflating: House/Communities/Dataset/VOC2007/JPEGImages/Halloween-towns-4.jpg  \n",
            "  inflating: House/Communities/Dataset/VOC2007/JPEGImages/Halloween-towns-3.jpg  \n",
            "  inflating: House/Communities/Dataset/VOC2007/JPEGImages/halloween-skeleton-lawn-ornaments.jpg  \n",
            "  inflating: House/Communities/Dataset/VOC2007/JPEGImages/halloween-setting-780x520.jpg  \n",
            "  inflating: House/Communities/Dataset/VOC2007/JPEGImages/halloween-porch-1538688356.jpg  \n",
            "  inflating: House/Communities/Dataset/VOC2007/JPEGImages/halloween-ideas-mo.jpg  \n",
            "  inflating: House/Communities/Dataset/VOC2007/JPEGImages/Halloween-House-Decorations.jpg  \n",
            "  inflating: House/Communities/Dataset/VOC2007/JPEGImages/halloween-house-decoration-gty-jpo-171025_4x3_992.jpg  \n",
            "  inflating: House/Communities/Dataset/VOC2007/JPEGImages/halloween-house-decoration-04.jpg  \n",
            "  inflating: House/Communities/Dataset/VOC2007/JPEGImages/halloween-hangings-780x520.jpg  \n",
            "  inflating: House/Communities/Dataset/VOC2007/JPEGImages/halloween-dining-780x520.jpg  \n",
            "  inflating: House/Communities/Dataset/VOC2007/JPEGImages/halloween-decorations-outside-house-in-greenwich-village-new-york-B7M48M.jpg  \n",
            "  inflating: House/Communities/Dataset/VOC2007/JPEGImages/halloween-decorations-outside-a-house-stowe-vermont-new-england-usa-F5GY1W.jpg  \n",
            "  inflating: House/Communities/Dataset/VOC2007/JPEGImages/halloween-decorations-outside-a-home-in-echo-park-east-los-angeles-KFYRHY.jpg  \n",
            "  inflating: House/Communities/Dataset/VOC2007/JPEGImages/halloween-decorations-outdoor-welcome.jpg  \n",
            "  inflating: House/Communities/Dataset/VOC2007/JPEGImages/halloween-decorations-on-a-house-porch-stowe-vermont-vt-new-england-F5FA56.jpg  \n",
            "  inflating: House/Communities/Dataset/VOC2007/JPEGImages/halloween-decorations-in-the-front-garden-of-a-house-in-salem-massachusetts-DHDETD.jpg  \n",
            "  inflating: House/Communities/Dataset/VOC2007/JPEGImages/halloween-decorations-in-the-front-garden-of-a-house-in-salem-massachusetts-DHDERD.jpg  \n",
            "  inflating: House/Communities/Dataset/VOC2007/JPEGImages/halloween-decorations-in-new-orleans-525404300-59d7a01ad088c000100abed4.jpg  \n",
            "  inflating: House/Communities/Dataset/VOC2007/JPEGImages/Halloween6-738x1024.jpg  \n",
            "  inflating: House/Communities/Dataset/VOC2007/JPEGImages/Halloween2-1024x683.jpg  \n",
            "  inflating: House/Communities/Dataset/VOC2007/JPEGImages/gym%20marketing.jpeg  \n",
            "  inflating: House/Communities/Dataset/VOC2007/JPEGImages/group-fitness.jpg  \n",
            "  inflating: House/Communities/Dataset/VOC2007/JPEGImages/Grijalva-Park-Project-by-Greenfields-Outdoor-Fitness-4.jpg  \n",
            "  inflating: House/Communities/Dataset/VOC2007/JPEGImages/GreenfieldsFitnessSniderRecreation.jpg  \n",
            "  inflating: House/Communities/Dataset/VOC2007/JPEGImages/Glaze-OutdoorPool.jpg  \n",
            "  inflating: House/Communities/Dataset/VOC2007/JPEGImages/Glaze-IndoorPool.jpg  \n",
            "  inflating: House/Communities/Dataset/VOC2007/JPEGImages/GettyImages-141510668_copy.0.0.jpg  \n",
            "  inflating: House/Communities/Dataset/VOC2007/JPEGImages/gettyimages-684098860-ii-1558361781.jpg  \n",
            "  inflating: House/Communities/Dataset/VOC2007/JPEGImages/gettyimages-72796984.jpg  \n",
            "  inflating: House/Communities/Dataset/VOC2007/JPEGImages/genMid.2161022_0.jpg  \n",
            "  inflating: House/Communities/Dataset/VOC2007/JPEGImages/genMid.2155441_0.jpg  \n",
            "  inflating: House/Communities/Dataset/VOC2007/JPEGImages/genMid.2121986_2.jpg  \n",
            "  inflating: House/Communities/Dataset/VOC2007/JPEGImages/genMid.2119416_0.jpg  \n",
            "  inflating: House/Communities/Dataset/VOC2007/JPEGImages/genMid.2115811_8.jpg  \n",
            "  inflating: House/Communities/Dataset/VOC2007/JPEGImages/genMid.2100576_0.jpg  \n",
            "  inflating: House/Communities/Dataset/VOC2007/JPEGImages/genMid.2097912_0.jpg  \n",
            "  inflating: House/Communities/Dataset/VOC2007/JPEGImages/genMid.2079920_4.jpg  \n",
            "  inflating: House/Communities/Dataset/VOC2007/JPEGImages/genMid.2078612_0.jpg  \n",
            "  inflating: House/Communities/Dataset/VOC2007/JPEGImages/genMid.2054074_2.jpg  \n",
            "  inflating: House/Communities/Dataset/VOC2007/JPEGImages/genMid.2043441_0.jpg  \n",
            "  inflating: House/Communities/Dataset/VOC2007/JPEGImages/g_emmanuel-williamshouse_slide-4533821398b5b8f73c3892b0a34f33e9e75e0533-s800-c85.jpeg  \n",
            "  inflating: House/Communities/Dataset/VOC2007/JPEGImages/gay_pride.jpg  \n",
            "  inflating: House/Communities/Dataset/VOC2007/JPEGImages/GayIndiaAbstr1.jpg  \n",
            "  inflating: House/Communities/Dataset/VOC2007/JPEGImages/Garfield_800.jpg  \n",
            "  inflating: House/Communities/Dataset/VOC2007/JPEGImages/GameTime_Outdoor-Fitness-Equipment.jpg  \n",
            "  inflating: House/Communities/Dataset/VOC2007/JPEGImages/gallery-1509391832-pin-102917-hauntedrestaurants.jpg  \n",
            "  inflating: House/Communities/Dataset/VOC2007/JPEGImages/fun-pool-pic.jpg  \n",
            "  inflating: House/Communities/Dataset/VOC2007/JPEGImages/fun-outdoor-winter-activities-kids-adults-1068x713.jpg  \n",
            "  inflating: House/Communities/Dataset/VOC2007/JPEGImages/front-porch-scary-halloween-decorations-1529518115.jpg  \n",
            "  inflating: House/Communities/Dataset/VOC2007/JPEGImages/Front%20of%20Pool2.png  \n",
            "  inflating: House/Communities/Dataset/VOC2007/JPEGImages/frightful-to-delightful-fall-home-decor-ideas2-1567803148.jpg  \n",
            "  inflating: House/Communities/Dataset/VOC2007/JPEGImages/flgfktu1000035877_-00_american-banner-flagpole-kit.jpg  \n",
            "  inflating: House/Communities/Dataset/VOC2007/JPEGImages/flags-around-front-porch.jpeg  \n",
            "  inflating: House/Communities/Dataset/VOC2007/JPEGImages/Flag_House%2C_844_East_Pratt_Street%2C_Baltimore%2C_Maryland.jpg  \n",
            "  inflating: House/Communities/Dataset/VOC2007/JPEGImages/flag-golden-gate-bridge_full_width.png  \n",
            "  inflating: House/Communities/Dataset/VOC2007/JPEGImages/flag.jpg  \n",
            "  inflating: House/Communities/Dataset/VOC2007/JPEGImages/Fitzmorris-Pool-banner-1024x328.jpg  \n",
            "  inflating: House/Communities/Dataset/VOC2007/JPEGImages/FitnessEquipment3.jpg  \n",
            "  inflating: House/Communities/Dataset/VOC2007/JPEGImages/FitnessCourse01-Burnham.jpg  \n",
            "  inflating: House/Communities/Dataset/VOC2007/JPEGImages/Fitness-Course03-Burnham.jpg  \n",
            "  inflating: House/Communities/Dataset/VOC2007/JPEGImages/Fitness-Course02-574.jpg  \n",
            "  inflating: House/Communities/Dataset/VOC2007/JPEGImages/fitness-center.jpg  \n",
            "  inflating: House/Communities/Dataset/VOC2007/JPEGImages/Fitness+805+Fitground+with+Turf.jpg  \n",
            "  inflating: House/Communities/Dataset/VOC2007/JPEGImages/FIT354FRONT-430x287.png  \n",
            "  inflating: House/Communities/Dataset/VOC2007/JPEGImages/FIT305SFRONT-e1535566071659-430x211.png  \n",
            "  inflating: House/Communities/Dataset/VOC2007/JPEGImages/finished-house.jpg  \n",
            "  inflating: House/Communities/Dataset/VOC2007/JPEGImages/find_a_gym.jpg  \n",
            "  inflating: House/Communities/Dataset/VOC2007/JPEGImages/fiberglass-pool-sales-near-me-cost-estimates.jpg  \n",
            "  inflating: House/Communities/Dataset/VOC2007/JPEGImages/feature-FE-1124.jpg  \n",
            "  inflating: House/Communities/Dataset/VOC2007/JPEGImages/family-lazy-river-floaties-cabanas-1680x1136.jpg  \n",
            "  inflating: House/Communities/Dataset/VOC2007/JPEGImages/fall-prep-feature-616a28.jpg  \n",
            "  inflating: House/Communities/Dataset/VOC2007/JPEGImages/facilties-1h6blb9.jpg  \n",
            "  inflating: House/Communities/Dataset/VOC2007/JPEGImages/facility-apex-center-pool.jpg  \n",
            "  inflating: House/Communities/Dataset/VOC2007/JPEGImages/F462TZAFHAI6TFMMBJQBEJX7NM.jpg  \n",
            "  inflating: House/Communities/Dataset/VOC2007/JPEGImages/Extraordinary-Home-Gym-Design-Ideas-15_Sebring-Design-Build.jpg  \n",
            "  inflating: House/Communities/Dataset/VOC2007/JPEGImages/exercise-equipment-workout-390x250.jpg  \n",
            "  inflating: House/Communities/Dataset/VOC2007/JPEGImages/SDW16_BG10sD2_210_.jpg  \n",
            "  inflating: House/Communities/Dataset/VOC2007/JPEGImages/Screen-Shot-2019-07-15-at-1.05.51-PM.png  \n",
            "  inflating: House/Communities/Dataset/VOC2007/JPEGImages/Screen+Shot+2019-01-09+at+2.56.10+PM.jpg  \n",
            "  inflating: House/Communities/Dataset/VOC2007/JPEGImages/Screenshot-2019-08-20-at-19.03.22.png  \n",
            "  inflating: House/Communities/Dataset/VOC2007/JPEGImages/screen-shot-2018-01-29-at-075944-am*750xx1082-609-0-10.png  \n",
            "  inflating: House/Communities/Dataset/VOC2007/JPEGImages/Schedules-Facility-Hours.jpg  \n",
            "  inflating: House/Communities/Dataset/VOC2007/JPEGImages/scary-halloween-yard-decoration-with-scary-doll-and-spider-net-replica-also-bat-replica-and-ither-halloween-ornament-.jpg  \n",
            "  inflating: House/Communities/Dataset/VOC2007/JPEGImages/san-francisco-california-united-states-america-usa-house-june-known-around-world-its-perfectly-preserved-71577444.jpg  \n",
            "  inflating: House/Communities/Dataset/VOC2007/JPEGImages/sandpearl-resort-43-WBFAMILYHOTELS0219.jpg  \n",
            "  inflating: House/Communities/Dataset/VOC2007/JPEGImages/San-Diego-Chargers-Kansas-City-Chiefs-House-Divided-Flag-3ft-x-5ft-Polyester-NFL-Banner-Size.jpg  \n",
            "  inflating: House/Communities/Dataset/VOC2007/JPEGImages/salemmassachusettswitchhouse-copy.jpg  \n",
            "  inflating: House/Communities/Dataset/VOC2007/JPEGImages/sage_logotagline3x.png  \n",
            "  inflating: House/Communities/Dataset/VOC2007/JPEGImages/SAGE-Care-Logo.png  \n",
            "  inflating: House/Communities/Dataset/VOC2007/JPEGImages/RTX2FUS0.jpg  \n",
            "  inflating: House/Communities/Dataset/VOC2007/JPEGImages/rtr4cvcz.jpg  \n",
            "  inflating: House/Communities/Dataset/VOC2007/JPEGImages/rs-175194-42-49193406.jpg  \n",
            "  inflating: House/Communities/Dataset/VOC2007/JPEGImages/roelandpark*750xx1200-677-0-83.jpg  \n",
            "  inflating: House/Communities/Dataset/VOC2007/JPEGImages/ROC_OutdoorPool_1600x580.jpg  \n",
            "  inflating: House/Communities/Dataset/VOC2007/JPEGImages/Ridge-Club-Front-1.jpg  \n",
            "  inflating: House/Communities/Dataset/VOC2007/JPEGImages/ricerec_mainbanner.jpg  \n",
            "  inflating: House/Communities/Dataset/VOC2007/JPEGImages/resized-GettyImages-851081210_master.jpg  \n",
            "  inflating: House/Communities/Dataset/VOC2007/JPEGImages/residential-home-has-halloween-decorations-on-the-front-porch-new-england-usa-PPNMT6.jpg  \n",
            "  inflating: House/Communities/Dataset/VOC2007/JPEGImages/residentialflagpoles.jpg  \n",
            "  inflating: House/Communities/Dataset/VOC2007/JPEGImages/Red-Ventures-1200x628.jpg  \n",
            "  inflating: House/Communities/Dataset/VOC2007/JPEGImages/rec_swimming.png  \n",
            "  inflating: House/Communities/Dataset/VOC2007/JPEGImages/recreation-bg.jpg  \n",
            "  inflating: House/Communities/Dataset/VOC2007/JPEGImages/rec.jpg  \n",
            "  inflating: House/Communities/Dataset/VOC2007/JPEGImages/Ramsey_Center_Front_View_500x200.jpg  \n",
            "  inflating: House/Communities/Dataset/VOC2007/JPEGImages/rainbow_white_house_ted_eytan_flickr_cc.jpg  \n",
            "  inflating: House/Communities/Dataset/VOC2007/JPEGImages/rainbowrailroadarticle.jpg  \n",
            "  inflating: House/Communities/Dataset/VOC2007/JPEGImages/rainbow_house2.jpg  \n",
            "  inflating: House/Communities/Dataset/VOC2007/JPEGImages/rainbow-flag-sacramento.jpg  \n",
            "  inflating: House/Communities/Dataset/VOC2007/JPEGImages/rainbow-flag-lgbt-rights-donald-trump.jpg  \n",
            "  inflating: House/Communities/Dataset/VOC2007/JPEGImages/rainbow_flag_house_800_466_90.jpg  \n",
            "  inflating: House/Communities/Dataset/VOC2007/JPEGImages/rainbow_flag_house.jpg  \n",
            "  inflating: House/Communities/Dataset/VOC2007/JPEGImages/q7rWPNJKqKruwOCqF2cDaoHHd179bkxkbd6QJGrk_1000.jpg  \n",
            "  inflating: House/Communities/Dataset/VOC2007/JPEGImages/p-USA-Today---Best-Shopping---Brookside_55_660x440.jpg  \n",
            "  inflating: House/Communities/Dataset/VOC2007/JPEGImages/providence-RI-home.jpg  \n",
            "  inflating: House/Communities/Dataset/VOC2007/JPEGImages/Pride-Month-Historic-LGBTQ-Bars-Atlantic-House-1.jpg  \n",
            "  inflating: House/Communities/Dataset/VOC2007/JPEGImages/pride-flag-us-embassy-israel-file-gty-jef-1900607_hpMain_4x3_992.jpg  \n",
            "  inflating: House/Communities/Dataset/VOC2007/JPEGImages/prestwick-pool.jpg  \n",
            "  inflating: House/Communities/Dataset/VOC2007/JPEGImages/Pool-Windmill2.jpg  \n",
            "  inflating: House/Communities/Dataset/VOC2007/JPEGImages/Pool-top-24-19-1.jpg  \n",
            "  inflating: House/Communities/Dataset/VOC2007/JPEGImages/poolstory.jpg  \n",
            "  inflating: House/Communities/Dataset/VOC2007/JPEGImages/poolmarq.jpg  \n",
            "  inflating: House/Communities/Dataset/VOC2007/JPEGImages/pool-header.jpg  \n",
            "  inflating: House/Communities/Dataset/VOC2007/JPEGImages/pool-DSC_2456-1440x1200.jpg  \n",
            "  inflating: House/Communities/Dataset/VOC2007/JPEGImages/Pool-2nd-Day-small.jpg  \n",
            "  inflating: House/Communities/Dataset/VOC2007/JPEGImages/Pool-2.jpg  \n",
            "  inflating: House/Communities/Dataset/VOC2007/JPEGImages/pool-705x397.jpg  \n",
            "  inflating: House/Communities/Dataset/VOC2007/JPEGImages/pool-600.jpg  \n",
            "  inflating: House/Communities/Dataset/VOC2007/JPEGImages/piratesnew.png  \n",
            "  inflating: House/Communities/Dataset/VOC2007/JPEGImages/photo-03.jpg  \n",
            "  inflating: House/Communities/Dataset/VOC2007/JPEGImages/peter-van-agtmael-washington-trump-inauguration-pence-house-1.jpg  \n",
            "  inflating: House/Communities/Dataset/VOC2007/JPEGImages/people-exercising-late-summer-in-rock-creek-park_ddc-photo.jpg  \n",
            "  inflating: House/Communities/Dataset/VOC2007/JPEGImages/outdoor-residential-flagpoles_d6e5fe6d197a911383fb1d0f82cde4d9_3x2.jpg  \n",
            "  inflating: House/Communities/Dataset/VOC2007/JPEGImages/outdoor-pool-web.jpg  \n",
            "  inflating: House/Communities/Dataset/VOC2007/JPEGImages/Outdoor-Pool-at-Night.jpg  \n",
            "  inflating: House/Communities/Dataset/VOC2007/JPEGImages/outdoor-pool.jpg  \n",
            "  inflating: House/Communities/Dataset/VOC2007/JPEGImages/Outdoor-House-and-backyard-Halloween-Decor.jpg  \n",
            "  inflating: House/Communities/Dataset/VOC2007/JPEGImages/outdoor-halloween-decorations-1568126901.jpg  \n",
            "  inflating: House/Communities/Dataset/VOC2007/JPEGImages/outdoor-halloween-decorations-1533059711.jpg  \n",
            "  inflating: House/Communities/Dataset/VOC2007/JPEGImages/outdoor-halloween-decorations-1533059296.jpg  \n",
            "  inflating: House/Communities/Dataset/VOC2007/JPEGImages/outdoor-halloween-decoration-1.jpg  \n",
            "  inflating: House/Communities/Dataset/VOC2007/JPEGImages/Outdoor-Halloween-Decorating-Ideas-01-1-Kindesign.jpg  \n",
            "  inflating: House/Communities/Dataset/VOC2007/JPEGImages/Outdoor-Halloween-decor-3-1024x683.jpg  \n",
            "  inflating: House/Communities/Dataset/VOC2007/JPEGImages/Outdoor_gym_in_Parque_de_Bateria%2C_Torremolinos.jpg  \n",
            "  inflating: House/Communities/Dataset/VOC2007/JPEGImages/outdoor-gym-equipments-500x500.jpg  \n",
            "  inflating: House/Communities/Dataset/VOC2007/JPEGImages/Outdoor-Fitness-Gym-Equiment-Functinal-training.jpeg  \n",
            "  inflating: House/Communities/Dataset/VOC2007/JPEGImages/outdoor-fitness-gametime-1-1024x559.jpg  \n",
            "  inflating: House/Communities/Dataset/VOC2007/JPEGImages/Outdoor%20Pools%202019.jpg  \n",
            "  inflating: House/Communities/Dataset/VOC2007/JPEGImages/Outdoor716_slide.jpg  \n",
            "  inflating: House/Communities/Dataset/VOC2007/JPEGImages/Outdoor3_640x199.jpg  \n",
            "  inflating: House/Communities/Dataset/VOC2007/JPEGImages/Outdoor2_640x239.jpg  \n",
            "  inflating: House/Communities/Dataset/VOC2007/JPEGImages/origin.jpg  \n",
            "  inflating: House/Communities/Dataset/VOC2007/JPEGImages/ooyala-JodDBpZzE6aKYe6OuWdEUX9n8UhLL_2Q.jpg  \n",
            "  inflating: House/Communities/Dataset/VOC2007/JPEGImages/Olathe_City_Hall.jpg  \n",
            "  inflating: House/Communities/Dataset/VOC2007/JPEGImages/Oglesby_Pool.jpg  \n",
            "  inflating: House/Communities/Dataset/VOC2007/JPEGImages/oFFyoTPTkeallKIvM7Ag_IMA-Autumn-2019-Hours-DD.png  \n",
            "  inflating: House/Communities/Dataset/VOC2007/JPEGImages/oakImage-1540495708419-articleLarge.jpg  \n",
            "  inflating: House/Communities/Dataset/VOC2007/JPEGImages/NWVhTbrOPsaGmtE-800x450-noPad.jpg  \n",
            "  inflating: House/Communities/Dataset/VOC2007/JPEGImages/NOTMC_33932_c001c1c7-6434-4b40-a79a-c9b96789c69f.jpg  \n",
            "  inflating: House/Communities/Dataset/VOC2007/JPEGImages/northland-300x281.jpg  \n",
            "  inflating: House/Communities/Dataset/VOC2007/JPEGImages/NorrisAquatics4.jpg  \n",
            "  inflating: House/Communities/Dataset/VOC2007/JPEGImages/new_drake_seats_blue.jpg  \n",
            "  inflating: House/Communities/Dataset/VOC2007/JPEGImages/Needs-of-LGBQ-Youth.png  \n",
            "  inflating: House/Communities/Dataset/VOC2007/JPEGImages/MWP3.jpg  \n",
            "  inflating: House/Communities/Dataset/VOC2007/JPEGImages/muscle-beach-venice-bodybuilding-outdoor-gym-in-los-angeles-usa-3.jpg  \n",
            "  inflating: House/Communities/Dataset/VOC2007/JPEGImages/mrnv.jpg  \n",
            "  inflating: House/Communities/Dataset/VOC2007/JPEGImages/moving-usa-apartment-house-rent-buy-small-min.jpg  \n",
            "  inflating: House/Communities/Dataset/VOC2007/JPEGImages/MMR-SignaturePool-1024x676.jpg  \n",
            "  inflating: House/Communities/Dataset/VOC2007/JPEGImages/mid_slide1.jpg  \n",
            "  inflating: House/Communities/Dataset/VOC2007/JPEGImages/merlin_142886631_10bdc0d2-54fe-47ce-b80d-ad7c5aab3092-articleLarge.jpg  \n",
            "  inflating: House/Communities/Dataset/VOC2007/JPEGImages/memorialpool.jpg  \n",
            "  inflating: House/Communities/Dataset/VOC2007/JPEGImages/MCST_1492002797.33.jpg  \n",
            "  inflating: House/Communities/Dataset/VOC2007/JPEGImages/mayors_christmas_tree-web.jpg  \n",
            "  inflating: House/Communities/Dataset/VOC2007/JPEGImages/mayors_christmas_tree_2-web.jpg  \n",
            "  inflating: House/Communities/Dataset/VOC2007/JPEGImages/MAR16_ALINI_FEATURE01.jpg  \n",
            "  inflating: House/Communities/Dataset/VOC2007/JPEGImages/Mang_Pano-213-800-600-80.jpg  \n",
            "  inflating: House/Communities/Dataset/VOC2007/JPEGImages/main.jpg  \n",
            "  inflating: House/Communities/Dataset/VOC2007/JPEGImages/lux1558po-267729-Outdoor-Pool-Seasonal-1-1-768x225.jpg  \n",
            "  inflating: House/Communities/Dataset/VOC2007/JPEGImages/lux1558po-267729-Outdoor-Pool-Seasonal-1-1.jpg  \n",
            "  inflating: House/Communities/Dataset/VOC2007/JPEGImages/living-usa-apartment-house-rent-small-min.jpg  \n",
            "  inflating: House/Communities/Dataset/VOC2007/JPEGImages/Liberty-Memorial-Kansas-City-Missouri.jpg  \n",
            "  inflating: House/Communities/Dataset/VOC2007/JPEGImages/lf7505145-m1xd-w640_h480_q80.jpg  \n",
            "  inflating: House/Communities/Dataset/VOC2007/JPEGImages/lead_720_405.jpg  \n",
            "  inflating: House/Communities/Dataset/VOC2007/JPEGImages/largehousedecoratedforhalloween.jpg  \n",
            "  inflating: House/Communities/Dataset/VOC2007/JPEGImages/LaQu_0267-1680x1068-1680x1058.jpg  \n",
            "  inflating: House/Communities/Dataset/VOC2007/JPEGImages/LapPool2-300x225.jpg  \n",
            "  inflating: House/Communities/Dataset/VOC2007/JPEGImages/LAgayLesbianCenter.jpg  \n",
            "  inflating: House/Communities/Dataset/VOC2007/JPEGImages/KWU_main_building-1_1.jpg  \n",
            "  inflating: House/Communities/Dataset/VOC2007/JPEGImages/kvf254chfp_-01_lifestyle_vf-usa-heritage-series-flag-kit-2017.jpg  \n",
            "  inflating: House/Communities/Dataset/VOC2007/JPEGImages/KSUFacBanner.jpg  \n",
            "  inflating: House/Communities/Dataset/VOC2007/JPEGImages/KingsburyShelterHouse.jpeg  \n",
            "  inflating: House/Communities/Dataset/VOC2007/JPEGImages/kDvdcp8saBVyaawFLLKJ4KwIGHxuMNRYzTE9DnQU.jpeg  \n",
            "  inflating: House/Communities/Dataset/VOC2007/JPEGImages/kansas-state-template.jpg  \n",
            "  inflating: House/Communities/Dataset/VOC2007/JPEGImages/kansas-statehouse.jpg  \n",
            "  inflating: House/Communities/Dataset/VOC2007/JPEGImages/kansas-city-halloween-fun-guide.jpeg.jpg  \n",
            "  inflating: House/Communities/Dataset/VOC2007/JPEGImages/k2-_caa81b8e-d072-455d-a3ce-51fbbeb55721.v1.jpg  \n",
            "  inflating: House/Communities/Dataset/VOC2007/JPEGImages/k2-_ca8221e2-573f-4b44-b41a-93766dbedb1e.v1.jpg  \n",
            "  inflating: House/Communities/Dataset/VOC2007/JPEGImages/Juniper-Swim-and-Fitness-Center-Outdoor-Olympic-Pool.jpg  \n",
            "  inflating: House/Communities/Dataset/VOC2007/JPEGImages/Juniper-Swim-and-Fitness-Center-Fitness-Classes-300x300.jpg  \n",
            "  inflating: House/Communities/Dataset/VOC2007/JPEGImages/jcaa_lounge.jpg  \n",
            "   creating: House/Communities/Dataset/VOC2007/ImageSets/Main/\n",
            "  inflating: House/Communities/Dataset/VOC2007/ImageSets/Main/train.txt  \n",
            "  inflating: House/Communities/Dataset/VOC2007/ImageSets/Main/validation.txt  \n"
          ],
          "name": "stdout"
        }
      ]
    },
    {
      "cell_type": "code",
      "metadata": {
        "id": "EnVHjt3tdgF0",
        "colab_type": "code",
        "colab": {
          "base_uri": "https://localhost:8080/",
          "height": 294
        },
        "outputId": "3975b78d-9fe5-4b4e-d415-984355749cf0"
      },
      "source": [
        "ls"
      ],
      "execution_count": 46,
      "outputs": [
        {
          "output_type": "stream",
          "text": [
            "\u001b[0m\u001b[01;34mbin\u001b[0m/                                       Model_Loss_epoch.PNG\n",
            "\u001b[01;34mboot\u001b[0m/                                      \u001b[01;34mopt\u001b[0m/\n",
            "Communities.zip                            \u001b[01;34mproc\u001b[0m/\n",
            "\u001b[01;34mcontent\u001b[0m/                                   Python_lab1.docx\n",
            "\u001b[01;34mdatalab\u001b[0m/                                   \u001b[01;34mroot\u001b[0m/\n",
            "\u001b[01;34mdev\u001b[0m/                                       \u001b[01;34mrun\u001b[0m/\n",
            "dlib-19.18.0-cp27-cp27mu-linux_x86_64.whl  \u001b[01;34msbin\u001b[0m/\n",
            "dlib-19.18.0-cp36-cp36m-linux_x86_64.whl   \u001b[01;34msrv\u001b[0m/\n",
            "\u001b[01;34metc\u001b[0m/                                       \u001b[01;34mswift\u001b[0m/\n",
            "\u001b[01;34mhome\u001b[0m/                                      \u001b[01;34msys\u001b[0m/\n",
            "\u001b[01;34mHouse\u001b[0m/                                     \u001b[01;34mtensorflow-2.1.0\u001b[0m/\n",
            "\u001b[01;34mlib\u001b[0m/                                       \u001b[30;42mtmp\u001b[0m/\n",
            "\u001b[01;34mlib32\u001b[0m/                                     \u001b[01;34mtools\u001b[0m/\n",
            "\u001b[01;34mlib64\u001b[0m/                                     \u001b[01;34musr\u001b[0m/\n",
            "\u001b[01;34mmedia\u001b[0m/                                     \u001b[01;34mvar\u001b[0m/\n",
            "\u001b[01;34mmnt\u001b[0m/\n"
          ],
          "name": "stdout"
        }
      ]
    },
    {
      "cell_type": "code",
      "metadata": {
        "id": "l-0kJ0jbduSR",
        "colab_type": "code",
        "colab": {
          "base_uri": "https://localhost:8080/",
          "height": 34
        },
        "outputId": "086493bb-f9fb-4d33-898b-3182d4c618ad"
      },
      "source": [
        "cd content"
      ],
      "execution_count": 47,
      "outputs": [
        {
          "output_type": "stream",
          "text": [
            "/content\n"
          ],
          "name": "stdout"
        }
      ]
    },
    {
      "cell_type": "code",
      "metadata": {
        "id": "gNUGS3JVdw7d",
        "colab_type": "code",
        "colab": {
          "base_uri": "https://localhost:8080/",
          "height": 34
        },
        "outputId": "ced85e2a-7780-4938-c653-3ede3327d72f"
      },
      "source": [
        "cd House/"
      ],
      "execution_count": 51,
      "outputs": [
        {
          "output_type": "stream",
          "text": [
            "/House\n"
          ],
          "name": "stdout"
        }
      ]
    },
    {
      "cell_type": "code",
      "metadata": {
        "id": "Ln9HE3lNd3f2",
        "colab_type": "code",
        "colab": {
          "base_uri": "https://localhost:8080/",
          "height": 294
        },
        "outputId": "96fce4fe-5eaf-44f7-e566-ff1cf933702f"
      },
      "source": [
        "ls"
      ],
      "execution_count": 61,
      "outputs": [
        {
          "output_type": "stream",
          "text": [
            "\u001b[0m\u001b[01;34mbin\u001b[0m/                                       Model_Loss_epoch.PNG\n",
            "\u001b[01;34mboot\u001b[0m/                                      \u001b[01;34mopt\u001b[0m/\n",
            "Communities.zip                            \u001b[01;34mproc\u001b[0m/\n",
            "\u001b[01;34mcontent\u001b[0m/                                   Python_lab1.docx\n",
            "\u001b[01;34mdatalab\u001b[0m/                                   \u001b[01;34mroot\u001b[0m/\n",
            "\u001b[01;34mdev\u001b[0m/                                       \u001b[01;34mrun\u001b[0m/\n",
            "dlib-19.18.0-cp27-cp27mu-linux_x86_64.whl  \u001b[01;34msbin\u001b[0m/\n",
            "dlib-19.18.0-cp36-cp36m-linux_x86_64.whl   \u001b[01;34msrv\u001b[0m/\n",
            "\u001b[01;34metc\u001b[0m/                                       \u001b[01;34mswift\u001b[0m/\n",
            "\u001b[01;34mhome\u001b[0m/                                      \u001b[01;34msys\u001b[0m/\n",
            "\u001b[01;34mHouse\u001b[0m/                                     \u001b[01;34mtensorflow-2.1.0\u001b[0m/\n",
            "\u001b[01;34mlib\u001b[0m/                                       \u001b[30;42mtmp\u001b[0m/\n",
            "\u001b[01;34mlib32\u001b[0m/                                     \u001b[01;34mtools\u001b[0m/\n",
            "\u001b[01;34mlib64\u001b[0m/                                     \u001b[01;34musr\u001b[0m/\n",
            "\u001b[01;34mmedia\u001b[0m/                                     \u001b[01;34mvar\u001b[0m/\n",
            "\u001b[01;34mmnt\u001b[0m/\n"
          ],
          "name": "stdout"
        }
      ]
    },
    {
      "cell_type": "code",
      "metadata": {
        "id": "cHYLLpPheKLJ",
        "colab_type": "code",
        "colab": {
          "base_uri": "https://localhost:8080/",
          "height": 166
        },
        "outputId": "c32049d4-6c4f-4f20-ad4d-b4722a5cd5e1"
      },
      "source": [
        "shutil.move(\"House/Communities/Dataset\", \"/content\")"
      ],
      "execution_count": 64,
      "outputs": [
        {
          "output_type": "error",
          "ename": "NameError",
          "evalue": "ignored",
          "traceback": [
            "\u001b[0;31m---------------------------------------------------------------------------\u001b[0m",
            "\u001b[0;31mNameError\u001b[0m                                 Traceback (most recent call last)",
            "\u001b[0;32m<ipython-input-64-317589c61613>\u001b[0m in \u001b[0;36m<module>\u001b[0;34m()\u001b[0m\n\u001b[0;32m----> 1\u001b[0;31m \u001b[0mshutil\u001b[0m\u001b[0;34m.\u001b[0m\u001b[0mmove\u001b[0m\u001b[0;34m(\u001b[0m\u001b[0;34m\"House/Communities/Dataset\"\u001b[0m\u001b[0;34m,\u001b[0m \u001b[0;34m\"/content\"\u001b[0m\u001b[0;34m)\u001b[0m\u001b[0;34m\u001b[0m\u001b[0;34m\u001b[0m\u001b[0m\n\u001b[0m",
            "\u001b[0;31mNameError\u001b[0m: name 'shutil' is not defined"
          ]
        }
      ]
    },
    {
      "cell_type": "code",
      "metadata": {
        "id": "QsiMeUJmeVWe",
        "colab_type": "code",
        "colab": {}
      },
      "source": [
        "import shutil"
      ],
      "execution_count": 0,
      "outputs": []
    },
    {
      "cell_type": "code",
      "metadata": {
        "id": "u5EeK6PjeZBt",
        "colab_type": "code",
        "colab": {
          "base_uri": "https://localhost:8080/",
          "height": 432
        },
        "outputId": "3a08da75-09a7-482f-c7ba-aaf6f4808841"
      },
      "source": [
        "shutil.move(\"House/Communities/Dataset\", \"/content\")"
      ],
      "execution_count": 68,
      "outputs": [
        {
          "output_type": "error",
          "ename": "FileNotFoundError",
          "evalue": "ignored",
          "traceback": [
            "\u001b[0;31m---------------------------------------------------------------------------\u001b[0m",
            "\u001b[0;31mFileNotFoundError\u001b[0m                         Traceback (most recent call last)",
            "\u001b[0;32m/usr/lib/python3.6/shutil.py\u001b[0m in \u001b[0;36mmove\u001b[0;34m(src, dst, copy_function)\u001b[0m\n\u001b[1;32m    549\u001b[0m     \u001b[0;32mtry\u001b[0m\u001b[0;34m:\u001b[0m\u001b[0;34m\u001b[0m\u001b[0;34m\u001b[0m\u001b[0m\n\u001b[0;32m--> 550\u001b[0;31m         \u001b[0mos\u001b[0m\u001b[0;34m.\u001b[0m\u001b[0mrename\u001b[0m\u001b[0;34m(\u001b[0m\u001b[0msrc\u001b[0m\u001b[0;34m,\u001b[0m \u001b[0mreal_dst\u001b[0m\u001b[0;34m)\u001b[0m\u001b[0;34m\u001b[0m\u001b[0;34m\u001b[0m\u001b[0m\n\u001b[0m\u001b[1;32m    551\u001b[0m     \u001b[0;32mexcept\u001b[0m \u001b[0mOSError\u001b[0m\u001b[0;34m:\u001b[0m\u001b[0;34m\u001b[0m\u001b[0;34m\u001b[0m\u001b[0m\n",
            "\u001b[0;31mFileNotFoundError\u001b[0m: [Errno 2] No such file or directory: 'House/Communities/Dataset' -> '/content/Dataset'",
            "\nDuring handling of the above exception, another exception occurred:\n",
            "\u001b[0;31mFileNotFoundError\u001b[0m                         Traceback (most recent call last)",
            "\u001b[0;32m<ipython-input-68-317589c61613>\u001b[0m in \u001b[0;36m<module>\u001b[0;34m()\u001b[0m\n\u001b[0;32m----> 1\u001b[0;31m \u001b[0mshutil\u001b[0m\u001b[0;34m.\u001b[0m\u001b[0mmove\u001b[0m\u001b[0;34m(\u001b[0m\u001b[0;34m\"House/Communities/Dataset\"\u001b[0m\u001b[0;34m,\u001b[0m \u001b[0;34m\"/content\"\u001b[0m\u001b[0;34m)\u001b[0m\u001b[0;34m\u001b[0m\u001b[0;34m\u001b[0m\u001b[0m\n\u001b[0m",
            "\u001b[0;32m/usr/lib/python3.6/shutil.py\u001b[0m in \u001b[0;36mmove\u001b[0;34m(src, dst, copy_function)\u001b[0m\n\u001b[1;32m    562\u001b[0m             \u001b[0mrmtree\u001b[0m\u001b[0;34m(\u001b[0m\u001b[0msrc\u001b[0m\u001b[0;34m)\u001b[0m\u001b[0;34m\u001b[0m\u001b[0;34m\u001b[0m\u001b[0m\n\u001b[1;32m    563\u001b[0m         \u001b[0;32melse\u001b[0m\u001b[0;34m:\u001b[0m\u001b[0;34m\u001b[0m\u001b[0;34m\u001b[0m\u001b[0m\n\u001b[0;32m--> 564\u001b[0;31m             \u001b[0mcopy_function\u001b[0m\u001b[0;34m(\u001b[0m\u001b[0msrc\u001b[0m\u001b[0;34m,\u001b[0m \u001b[0mreal_dst\u001b[0m\u001b[0;34m)\u001b[0m\u001b[0;34m\u001b[0m\u001b[0;34m\u001b[0m\u001b[0m\n\u001b[0m\u001b[1;32m    565\u001b[0m             \u001b[0mos\u001b[0m\u001b[0;34m.\u001b[0m\u001b[0munlink\u001b[0m\u001b[0;34m(\u001b[0m\u001b[0msrc\u001b[0m\u001b[0;34m)\u001b[0m\u001b[0;34m\u001b[0m\u001b[0;34m\u001b[0m\u001b[0m\n\u001b[1;32m    566\u001b[0m     \u001b[0;32mreturn\u001b[0m \u001b[0mreal_dst\u001b[0m\u001b[0;34m\u001b[0m\u001b[0;34m\u001b[0m\u001b[0m\n",
            "\u001b[0;32m/usr/lib/python3.6/shutil.py\u001b[0m in \u001b[0;36mcopy2\u001b[0;34m(src, dst, follow_symlinks)\u001b[0m\n\u001b[1;32m    261\u001b[0m     \u001b[0;32mif\u001b[0m \u001b[0mos\u001b[0m\u001b[0;34m.\u001b[0m\u001b[0mpath\u001b[0m\u001b[0;34m.\u001b[0m\u001b[0misdir\u001b[0m\u001b[0;34m(\u001b[0m\u001b[0mdst\u001b[0m\u001b[0;34m)\u001b[0m\u001b[0;34m:\u001b[0m\u001b[0;34m\u001b[0m\u001b[0;34m\u001b[0m\u001b[0m\n\u001b[1;32m    262\u001b[0m         \u001b[0mdst\u001b[0m \u001b[0;34m=\u001b[0m \u001b[0mos\u001b[0m\u001b[0;34m.\u001b[0m\u001b[0mpath\u001b[0m\u001b[0;34m.\u001b[0m\u001b[0mjoin\u001b[0m\u001b[0;34m(\u001b[0m\u001b[0mdst\u001b[0m\u001b[0;34m,\u001b[0m \u001b[0mos\u001b[0m\u001b[0;34m.\u001b[0m\u001b[0mpath\u001b[0m\u001b[0;34m.\u001b[0m\u001b[0mbasename\u001b[0m\u001b[0;34m(\u001b[0m\u001b[0msrc\u001b[0m\u001b[0;34m)\u001b[0m\u001b[0;34m)\u001b[0m\u001b[0;34m\u001b[0m\u001b[0;34m\u001b[0m\u001b[0m\n\u001b[0;32m--> 263\u001b[0;31m     \u001b[0mcopyfile\u001b[0m\u001b[0;34m(\u001b[0m\u001b[0msrc\u001b[0m\u001b[0;34m,\u001b[0m \u001b[0mdst\u001b[0m\u001b[0;34m,\u001b[0m \u001b[0mfollow_symlinks\u001b[0m\u001b[0;34m=\u001b[0m\u001b[0mfollow_symlinks\u001b[0m\u001b[0;34m)\u001b[0m\u001b[0;34m\u001b[0m\u001b[0;34m\u001b[0m\u001b[0m\n\u001b[0m\u001b[1;32m    264\u001b[0m     \u001b[0mcopystat\u001b[0m\u001b[0;34m(\u001b[0m\u001b[0msrc\u001b[0m\u001b[0;34m,\u001b[0m \u001b[0mdst\u001b[0m\u001b[0;34m,\u001b[0m \u001b[0mfollow_symlinks\u001b[0m\u001b[0;34m=\u001b[0m\u001b[0mfollow_symlinks\u001b[0m\u001b[0;34m)\u001b[0m\u001b[0;34m\u001b[0m\u001b[0;34m\u001b[0m\u001b[0m\n\u001b[1;32m    265\u001b[0m     \u001b[0;32mreturn\u001b[0m \u001b[0mdst\u001b[0m\u001b[0;34m\u001b[0m\u001b[0;34m\u001b[0m\u001b[0m\n",
            "\u001b[0;32m/usr/lib/python3.6/shutil.py\u001b[0m in \u001b[0;36mcopyfile\u001b[0;34m(src, dst, follow_symlinks)\u001b[0m\n\u001b[1;32m    118\u001b[0m         \u001b[0mos\u001b[0m\u001b[0;34m.\u001b[0m\u001b[0msymlink\u001b[0m\u001b[0;34m(\u001b[0m\u001b[0mos\u001b[0m\u001b[0;34m.\u001b[0m\u001b[0mreadlink\u001b[0m\u001b[0;34m(\u001b[0m\u001b[0msrc\u001b[0m\u001b[0;34m)\u001b[0m\u001b[0;34m,\u001b[0m \u001b[0mdst\u001b[0m\u001b[0;34m)\u001b[0m\u001b[0;34m\u001b[0m\u001b[0;34m\u001b[0m\u001b[0m\n\u001b[1;32m    119\u001b[0m     \u001b[0;32melse\u001b[0m\u001b[0;34m:\u001b[0m\u001b[0;34m\u001b[0m\u001b[0;34m\u001b[0m\u001b[0m\n\u001b[0;32m--> 120\u001b[0;31m         \u001b[0;32mwith\u001b[0m \u001b[0mopen\u001b[0m\u001b[0;34m(\u001b[0m\u001b[0msrc\u001b[0m\u001b[0;34m,\u001b[0m \u001b[0;34m'rb'\u001b[0m\u001b[0;34m)\u001b[0m \u001b[0;32mas\u001b[0m \u001b[0mfsrc\u001b[0m\u001b[0;34m:\u001b[0m\u001b[0;34m\u001b[0m\u001b[0;34m\u001b[0m\u001b[0m\n\u001b[0m\u001b[1;32m    121\u001b[0m             \u001b[0;32mwith\u001b[0m \u001b[0mopen\u001b[0m\u001b[0;34m(\u001b[0m\u001b[0mdst\u001b[0m\u001b[0;34m,\u001b[0m \u001b[0;34m'wb'\u001b[0m\u001b[0;34m)\u001b[0m \u001b[0;32mas\u001b[0m \u001b[0mfdst\u001b[0m\u001b[0;34m:\u001b[0m\u001b[0;34m\u001b[0m\u001b[0;34m\u001b[0m\u001b[0m\n\u001b[1;32m    122\u001b[0m                 \u001b[0mcopyfileobj\u001b[0m\u001b[0;34m(\u001b[0m\u001b[0mfsrc\u001b[0m\u001b[0;34m,\u001b[0m \u001b[0mfdst\u001b[0m\u001b[0;34m)\u001b[0m\u001b[0;34m\u001b[0m\u001b[0;34m\u001b[0m\u001b[0m\n",
            "\u001b[0;31mFileNotFoundError\u001b[0m: [Errno 2] No such file or directory: 'House/Communities/Dataset'"
          ]
        }
      ]
    },
    {
      "cell_type": "code",
      "metadata": {
        "id": "fCUSuqtken6u",
        "colab_type": "code",
        "colab": {}
      },
      "source": [
        "import shutil"
      ],
      "execution_count": 0,
      "outputs": []
    },
    {
      "cell_type": "code",
      "metadata": {
        "id": "QjVK9klvfP6l",
        "colab_type": "code",
        "colab": {
          "base_uri": "https://localhost:8080/",
          "height": 34
        },
        "outputId": "27462f4a-ccbd-425f-c00e-313cd582c712"
      },
      "source": [
        "shutil.move(\"House/Communities/Dataset\", \"/content\")"
      ],
      "execution_count": 80,
      "outputs": [
        {
          "output_type": "execute_result",
          "data": {
            "text/plain": [
              "'/content/Dataset'"
            ]
          },
          "metadata": {
            "tags": []
          },
          "execution_count": 80
        }
      ]
    },
    {
      "cell_type": "code",
      "metadata": {
        "id": "W-I6cpdBfdS4",
        "colab_type": "code",
        "colab": {
          "base_uri": "https://localhost:8080/",
          "height": 314
        },
        "outputId": "9f2038fb-89b4-4986-d271-91c916ffe47b"
      },
      "source": [
        "!pip install mxnet"
      ],
      "execution_count": 81,
      "outputs": [
        {
          "output_type": "stream",
          "text": [
            "Collecting mxnet\n",
            "\u001b[?25l  Downloading https://files.pythonhosted.org/packages/92/6c/c6e5562f8face683cec73f5d4d74a58f8572c0595d54f1fed9d923020bbd/mxnet-1.5.1.post0-py2.py3-none-manylinux1_x86_64.whl (25.4MB)\n",
            "\u001b[K     |████████████████████████████████| 25.4MB 50.0MB/s \n",
            "\u001b[?25hCollecting graphviz<0.9.0,>=0.8.1\n",
            "  Downloading https://files.pythonhosted.org/packages/53/39/4ab213673844e0c004bed8a0781a0721a3f6bb23eb8854ee75c236428892/graphviz-0.8.4-py2.py3-none-any.whl\n",
            "Requirement already satisfied: numpy<2.0.0,>1.16.0 in /usr/local/lib/python3.6/dist-packages (from mxnet) (1.17.5)\n",
            "Requirement already satisfied: requests<3,>=2.20.0 in /usr/local/lib/python3.6/dist-packages (from mxnet) (2.21.0)\n",
            "Requirement already satisfied: urllib3<1.25,>=1.21.1 in /usr/local/lib/python3.6/dist-packages (from requests<3,>=2.20.0->mxnet) (1.24.3)\n",
            "Requirement already satisfied: chardet<3.1.0,>=3.0.2 in /usr/local/lib/python3.6/dist-packages (from requests<3,>=2.20.0->mxnet) (3.0.4)\n",
            "Requirement already satisfied: idna<2.9,>=2.5 in /usr/local/lib/python3.6/dist-packages (from requests<3,>=2.20.0->mxnet) (2.8)\n",
            "Requirement already satisfied: certifi>=2017.4.17 in /usr/local/lib/python3.6/dist-packages (from requests<3,>=2.20.0->mxnet) (2019.11.28)\n",
            "Installing collected packages: graphviz, mxnet\n",
            "  Found existing installation: graphviz 0.10.1\n",
            "    Uninstalling graphviz-0.10.1:\n",
            "      Successfully uninstalled graphviz-0.10.1\n",
            "Successfully installed graphviz-0.8.4 mxnet-1.5.1.post0\n"
          ],
          "name": "stdout"
        }
      ]
    },
    {
      "cell_type": "code",
      "metadata": {
        "id": "NOK-eqdZfoWB",
        "colab_type": "code",
        "colab": {
          "base_uri": "https://localhost:8080/",
          "height": 435
        },
        "outputId": "e8cb64bc-9993-417f-df3f-c6b4800df9c6"
      },
      "source": [
        "!pip install gluoncv"
      ],
      "execution_count": 82,
      "outputs": [
        {
          "output_type": "stream",
          "text": [
            "Collecting gluoncv\n",
            "\u001b[?25l  Downloading https://files.pythonhosted.org/packages/69/4d/d9d6b9261af8f7251977bb97be669a3908f72bdec9d3597e527712d384c2/gluoncv-0.6.0-py2.py3-none-any.whl (693kB)\n",
            "\u001b[K     |████████████████████████████████| 696kB 3.3MB/s \n",
            "\u001b[?25hRequirement already satisfied: requests in /usr/local/lib/python3.6/dist-packages (from gluoncv) (2.21.0)\n",
            "Requirement already satisfied: tqdm in /usr/local/lib/python3.6/dist-packages (from gluoncv) (4.28.1)\n",
            "Requirement already satisfied: matplotlib in /usr/local/lib/python3.6/dist-packages (from gluoncv) (3.1.2)\n",
            "Requirement already satisfied: scipy in /usr/local/lib/python3.6/dist-packages (from gluoncv) (1.4.1)\n",
            "Collecting portalocker\n",
            "  Downloading https://files.pythonhosted.org/packages/91/db/7bc703c0760df726839e0699b7f78a4d8217fdc9c7fcb1b51b39c5a22a4e/portalocker-1.5.2-py2.py3-none-any.whl\n",
            "Requirement already satisfied: numpy in /usr/local/lib/python3.6/dist-packages (from gluoncv) (1.17.5)\n",
            "Requirement already satisfied: Pillow in /usr/local/lib/python3.6/dist-packages (from gluoncv) (6.2.2)\n",
            "Requirement already satisfied: urllib3<1.25,>=1.21.1 in /usr/local/lib/python3.6/dist-packages (from requests->gluoncv) (1.24.3)\n",
            "Requirement already satisfied: certifi>=2017.4.17 in /usr/local/lib/python3.6/dist-packages (from requests->gluoncv) (2019.11.28)\n",
            "Requirement already satisfied: idna<2.9,>=2.5 in /usr/local/lib/python3.6/dist-packages (from requests->gluoncv) (2.8)\n",
            "Requirement already satisfied: chardet<3.1.0,>=3.0.2 in /usr/local/lib/python3.6/dist-packages (from requests->gluoncv) (3.0.4)\n",
            "Requirement already satisfied: cycler>=0.10 in /usr/local/lib/python3.6/dist-packages (from matplotlib->gluoncv) (0.10.0)\n",
            "Requirement already satisfied: python-dateutil>=2.1 in /usr/local/lib/python3.6/dist-packages (from matplotlib->gluoncv) (2.6.1)\n",
            "Requirement already satisfied: pyparsing!=2.0.4,!=2.1.2,!=2.1.6,>=2.0.1 in /usr/local/lib/python3.6/dist-packages (from matplotlib->gluoncv) (2.4.6)\n",
            "Requirement already satisfied: kiwisolver>=1.0.1 in /usr/local/lib/python3.6/dist-packages (from matplotlib->gluoncv) (1.1.0)\n",
            "Requirement already satisfied: six in /usr/local/lib/python3.6/dist-packages (from cycler>=0.10->matplotlib->gluoncv) (1.12.0)\n",
            "Requirement already satisfied: setuptools in /usr/local/lib/python3.6/dist-packages (from kiwisolver>=1.0.1->matplotlib->gluoncv) (42.0.2)\n",
            "Installing collected packages: portalocker, gluoncv\n",
            "Successfully installed gluoncv-0.6.0 portalocker-1.5.2\n"
          ],
          "name": "stdout"
        }
      ]
    },
    {
      "cell_type": "code",
      "metadata": {
        "id": "7Svmld9PfsEt",
        "colab_type": "code",
        "colab": {
          "base_uri": "https://localhost:8080/",
          "height": 244
        },
        "outputId": "e737bd78-410d-44c7-87a7-a5a19b2eb501"
      },
      "source": [
        "!pip install mxnet-cu100mkl"
      ],
      "execution_count": 83,
      "outputs": [
        {
          "output_type": "stream",
          "text": [
            "Collecting mxnet-cu100mkl\n",
            "\u001b[?25l  Downloading https://files.pythonhosted.org/packages/bb/eb/68921d5ffb80fd5cba483ab0dc955ed4aa257acc5c3b00c05dc03e3737c2/mxnet_cu100mkl-1.5.1.post0-py2.py3-none-manylinux1_x86_64.whl (576.6MB)\n",
            "\u001b[K     |████████████████████████████████| 576.6MB 29kB/s \n",
            "\u001b[?25hRequirement already satisfied: requests<3,>=2.20.0 in /usr/local/lib/python3.6/dist-packages (from mxnet-cu100mkl) (2.21.0)\n",
            "Requirement already satisfied: numpy<2.0.0,>1.16.0 in /usr/local/lib/python3.6/dist-packages (from mxnet-cu100mkl) (1.17.5)\n",
            "Requirement already satisfied: graphviz<0.9.0,>=0.8.1 in /usr/local/lib/python3.6/dist-packages (from mxnet-cu100mkl) (0.8.4)\n",
            "Requirement already satisfied: certifi>=2017.4.17 in /usr/local/lib/python3.6/dist-packages (from requests<3,>=2.20.0->mxnet-cu100mkl) (2019.11.28)\n",
            "Requirement already satisfied: urllib3<1.25,>=1.21.1 in /usr/local/lib/python3.6/dist-packages (from requests<3,>=2.20.0->mxnet-cu100mkl) (1.24.3)\n",
            "Requirement already satisfied: idna<2.9,>=2.5 in /usr/local/lib/python3.6/dist-packages (from requests<3,>=2.20.0->mxnet-cu100mkl) (2.8)\n",
            "Requirement already satisfied: chardet<3.1.0,>=3.0.2 in /usr/local/lib/python3.6/dist-packages (from requests<3,>=2.20.0->mxnet-cu100mkl) (3.0.4)\n",
            "Installing collected packages: mxnet-cu100mkl\n",
            "Successfully installed mxnet-cu100mkl-1.5.1.post0\n"
          ],
          "name": "stdout"
        }
      ]
    },
    {
      "cell_type": "code",
      "metadata": {
        "id": "x-9tSu1zf9Jn",
        "colab_type": "code",
        "colab": {}
      },
      "source": [
        "!python  /content/Houseflag/Communities/train_faster_rcnn.py --epochs 20 --batch-size 4"
      ],
      "execution_count": 0,
      "outputs": []
    },
    {
      "cell_type": "code",
      "metadata": {
        "id": "2ExfrIpVgEu1",
        "colab_type": "code",
        "colab": {
          "base_uri": "https://localhost:8080/",
          "height": 34
        },
        "outputId": "138a5178-513d-4005-b4f1-2c8349abc705"
      },
      "source": [
        "pwd"
      ],
      "execution_count": 85,
      "outputs": [
        {
          "output_type": "execute_result",
          "data": {
            "text/plain": [
              "'/'"
            ]
          },
          "metadata": {
            "tags": []
          },
          "execution_count": 85
        }
      ]
    },
    {
      "cell_type": "code",
      "metadata": {
        "id": "g3YfymwYgbnC",
        "colab_type": "code",
        "colab": {
          "base_uri": "https://localhost:8080/",
          "height": 34
        },
        "outputId": "abf30e5a-b7d4-489f-caaa-263bec092736"
      },
      "source": [
        "shutil.move(\"/House/Communities/train_faster_rcnn (1).py\", \"/content\")"
      ],
      "execution_count": 86,
      "outputs": [
        {
          "output_type": "execute_result",
          "data": {
            "text/plain": [
              "'/content/train_faster_rcnn (1).py'"
            ]
          },
          "metadata": {
            "tags": []
          },
          "execution_count": 86
        }
      ]
    },
    {
      "cell_type": "code",
      "metadata": {
        "id": "iGqqBDR9gjC5",
        "colab_type": "code",
        "colab": {
          "base_uri": "https://localhost:8080/",
          "height": 294
        },
        "outputId": "d6aef336-84a0-4297-ede9-181d51c12ce2"
      },
      "source": [
        "cd "
      ],
      "execution_count": 87,
      "outputs": [
        {
          "output_type": "stream",
          "text": [
            "\u001b[0m\u001b[01;34mbin\u001b[0m/                                       Model_Loss_epoch.PNG\n",
            "\u001b[01;34mboot\u001b[0m/                                      \u001b[01;34mopt\u001b[0m/\n",
            "Communities.zip                            \u001b[01;34mproc\u001b[0m/\n",
            "\u001b[01;34mcontent\u001b[0m/                                   Python_lab1.docx\n",
            "\u001b[01;34mdatalab\u001b[0m/                                   \u001b[01;34mroot\u001b[0m/\n",
            "\u001b[01;34mdev\u001b[0m/                                       \u001b[01;34mrun\u001b[0m/\n",
            "dlib-19.18.0-cp27-cp27mu-linux_x86_64.whl  \u001b[01;34msbin\u001b[0m/\n",
            "dlib-19.18.0-cp36-cp36m-linux_x86_64.whl   \u001b[01;34msrv\u001b[0m/\n",
            "\u001b[01;34metc\u001b[0m/                                       \u001b[01;34mswift\u001b[0m/\n",
            "\u001b[01;34mhome\u001b[0m/                                      \u001b[01;34msys\u001b[0m/\n",
            "\u001b[01;34mHouse\u001b[0m/                                     \u001b[01;34mtensorflow-2.1.0\u001b[0m/\n",
            "\u001b[01;34mlib\u001b[0m/                                       \u001b[30;42mtmp\u001b[0m/\n",
            "\u001b[01;34mlib32\u001b[0m/                                     \u001b[01;34mtools\u001b[0m/\n",
            "\u001b[01;34mlib64\u001b[0m/                                     \u001b[01;34musr\u001b[0m/\n",
            "\u001b[01;34mmedia\u001b[0m/                                     \u001b[01;34mvar\u001b[0m/\n",
            "\u001b[01;34mmnt\u001b[0m/\n"
          ],
          "name": "stdout"
        }
      ]
    },
    {
      "cell_type": "code",
      "metadata": {
        "id": "VI6FQ0cZgpWX",
        "colab_type": "code",
        "colab": {
          "base_uri": "https://localhost:8080/",
          "height": 34
        },
        "outputId": "b7b102f8-f211-47d6-d271-aa56e9d034b6"
      },
      "source": [
        "cd content/"
      ],
      "execution_count": 88,
      "outputs": [
        {
          "output_type": "stream",
          "text": [
            "/content\n"
          ],
          "name": "stdout"
        }
      ]
    },
    {
      "cell_type": "code",
      "metadata": {
        "id": "phrm9hHYgrYO",
        "colab_type": "code",
        "colab": {
          "base_uri": "https://localhost:8080/",
          "height": 34
        },
        "outputId": "4215389e-0eed-4de8-84d3-aa8bec12c355"
      },
      "source": [
        "ls"
      ],
      "execution_count": 90,
      "outputs": [
        {
          "output_type": "stream",
          "text": [
            "\u001b[0m\u001b[01;34mDataset\u001b[0m/  \u001b[01;34msample_data\u001b[0m/  train_faster_rcnn.py\n"
          ],
          "name": "stdout"
        }
      ]
    },
    {
      "cell_type": "code",
      "metadata": {
        "id": "ZTCq4wWxgyw3",
        "colab_type": "code",
        "colab": {
          "base_uri": "https://localhost:8080/",
          "height": 688
        },
        "outputId": "f3dc6ef6-6311-4dd5-888e-ce95bd4a47da"
      },
      "source": [
        "!python  /content/train_faster_rcnn.py  --epochs 20 --batch-size 4"
      ],
      "execution_count": 0,
      "outputs": [
        {
          "output_type": "stream",
          "text": [
            "Downloading /root/.mxnet/models/resnet50_v1b-0ecdba34.zip from https://apache-mxnet.s3-accelerate.dualstack.amazonaws.com/gluon/models/resnet50_v1b-0ecdba34.zip...\n",
            "100% 55344/55344 [00:01<00:00, 50153.75KB/s]\n",
            "/usr/local/lib/python3.6/dist-packages/mxnet/gluon/parameter.py:678: UserWarning: Constant parameter \"fasterrcnn0_rpn0_rpnanchorgenerator0_anchor_\" does not support grad_req other than \"null\", and new value \"write\" is ignored.\n",
            "  'is ignored.'.format(self.name, req))\n",
            "INFO:root:Namespace(amp=False, batch_size=4, dataset='voc', disable_hybridization=False, epochs=20, executor_threads=1, gpus='0', horovod=False, kv_store='nccl', log_interval=100, lr=0.001, lr_decay=0.1, lr_decay_epoch='14,20', lr_warmup=-1, lr_warmup_factor=0.3333333333333333, mixup=False, momentum=0.9, network='resnet50_v1b', no_mixup_epochs=20, norm_layer=None, num_workers=4, resume='', save_interval=1, save_prefix='faster_rcnn_resnet50_v1b_voc', seed=233, start_epoch=0, static_alloc=False, use_fpn=False, val_interval=1, verbose=False, wd=0.0005)\n",
            "INFO:root:Start training from [Epoch 0]\n",
            "multiprocessing.pool.RemoteTraceback: \n",
            "\"\"\"\n",
            "Traceback (most recent call last):\n",
            "  File \"/usr/lib/python3.6/multiprocessing/pool.py\", line 119, in worker\n",
            "    result = (True, func(*args, **kwds))\n",
            "  File \"/usr/local/lib/python3.6/dist-packages/mxnet/gluon/data/dataloader.py\", line 400, in _worker_fn\n",
            "    batch = batchify_fn([_worker_dataset[i] for i in samples])\n",
            "  File \"/usr/local/lib/python3.6/dist-packages/mxnet/gluon/data/dataloader.py\", line 400, in <listcomp>\n",
            "    batch = batchify_fn([_worker_dataset[i] for i in samples])\n",
            "  File \"/usr/local/lib/python3.6/dist-packages/mxnet/gluon/data/dataset.py\", line 124, in __getitem__\n",
            "    return self._fn(*item)\n",
            "  File \"/usr/local/lib/python3.6/dist-packages/gluoncv/data/transforms/presets/rcnn.py\", line 192, in __call__\n",
            "    bbox = tbbox.resize(label, (w, h), (img.shape[1], img.shape[0]))\n",
            "  File \"/usr/local/lib/python3.6/dist-packages/gluoncv/data/transforms/bbox.py\", line 132, in resize\n",
            "    bbox[:, 1] = y_scale * bbox[:, 1]\n",
            "IndexError: too many indices for array\n",
            "\"\"\"\n",
            "\n",
            "The above exception was the direct cause of the following exception:\n",
            "\n",
            "Traceback (most recent call last):\n",
            "  File \"/content/train_faster_rcnn.py\", line 503, in <module>\n",
            "    train(net, train_data, val_data, eval_metric, batch_size, ctx, args)\n",
            "  File \"/content/train_faster_rcnn.py\", line 396, in train\n",
            "    for i, batch in enumerate(train_data):\n",
            "  File \"/usr/local/lib/python3.6/dist-packages/mxnet/gluon/data/dataloader.py\", line 451, in __next__\n",
            "    batch = pickle.loads(ret.get()) if self._dataset is None else ret.get()\n",
            "  File \"/usr/lib/python3.6/multiprocessing/pool.py\", line 644, in get\n",
            "    raise self._value\n",
            "IndexError: too many indices for array\n"
          ],
          "name": "stdout"
        }
      ]
    }
  ]
}